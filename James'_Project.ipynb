{
  "nbformat": 4,
  "nbformat_minor": 0,
  "metadata": {
    "colab": {
      "provenance": [],
      "toc_visible": true,
      "collapsed_sections": [
        "5jXsnrGRcKE9",
        "IVtDUjo-hAxS",
        "4qJb9AQDrERH",
        "WXWp-7JDrUNQ",
        "7QrasVWeg67v",
        "kz6gjgYctsRU",
        "cSo0X1nWt8TI",
        "QY3VtatbuIdw"
      ],
      "authorship_tag": "ABX9TyPVl1lK2Ixvz7bl+BgIU5X6",
      "include_colab_link": true
    },
    "kernelspec": {
      "name": "python3",
      "display_name": "Python 3"
    },
    "language_info": {
      "name": "python"
    }
  },
  "cells": [
    {
      "cell_type": "markdown",
      "metadata": {
        "id": "view-in-github",
        "colab_type": "text"
      },
      "source": [
        "<a href=\"https://colab.research.google.com/github/T-H-Aung/Branch/blob/main/James'_Project.ipynb\" target=\"_parent\"><img src=\"https://colab.research.google.com/assets/colab-badge.svg\" alt=\"Open In Colab\"/></a>"
      ]
    },
    {
      "cell_type": "code",
      "execution_count": null,
      "metadata": {
        "id": "Vg0u0_AkaSSq"
      },
      "outputs": [],
      "source": []
    },
    {
      "cell_type": "markdown",
      "source": [
        "# **Python 1st Week**"
      ],
      "metadata": {
        "id": "9XQ81AR7bswb"
      }
    },
    {
      "cell_type": "markdown",
      "source": [
        "## **Introduction**"
      ],
      "metadata": {
        "id": "5jXsnrGRcKE9"
      }
    },
    {
      "cell_type": "code",
      "source": [
        "5-2 #this is my first code"
      ],
      "metadata": {
        "colab": {
          "base_uri": "https://localhost:8080/"
        },
        "id": "OYybfa2VcmJS",
        "outputId": "ae399fde-911f-4024-8b58-0bfca281c36b"
      },
      "execution_count": null,
      "outputs": [
        {
          "output_type": "execute_result",
          "data": {
            "text/plain": [
              "3"
            ]
          },
          "metadata": {},
          "execution_count": 2
        }
      ]
    },
    {
      "cell_type": "code",
      "source": [
        "print(5-2)"
      ],
      "metadata": {
        "colab": {
          "base_uri": "https://localhost:8080/"
        },
        "id": "J4IIc6IoG7o0",
        "outputId": "1fe0cdac-0ce0-494a-dd86-da83efc59fca"
      },
      "execution_count": null,
      "outputs": [
        {
          "output_type": "stream",
          "name": "stdout",
          "text": [
            "3\n"
          ]
        }
      ]
    },
    {
      "cell_type": "code",
      "source": [
        "print(\"Hello World!\")"
      ],
      "metadata": {
        "colab": {
          "base_uri": "https://localhost:8080/"
        },
        "id": "3aSR2IvZHAxL",
        "outputId": "5666c51f-7163-43e9-f7fa-8e62dcff4067"
      },
      "execution_count": null,
      "outputs": [
        {
          "output_type": "stream",
          "name": "stdout",
          "text": [
            "Hello World!\n"
          ]
        }
      ]
    },
    {
      "cell_type": "markdown",
      "source": [
        "## **Date type and Data structure**"
      ],
      "metadata": {
        "id": "IVtDUjo-hAxS"
      }
    },
    {
      "cell_type": "code",
      "source": [
        "print(\"Hello World!\")"
      ],
      "metadata": {
        "colab": {
          "base_uri": "https://localhost:8080/"
        },
        "id": "gPvP66oMIMmj",
        "outputId": "85df380f-b507-48a1-f0ca-5614b4471b6e"
      },
      "execution_count": null,
      "outputs": [
        {
          "output_type": "stream",
          "name": "stdout",
          "text": [
            "Hello World!\n"
          ]
        }
      ]
    },
    {
      "cell_type": "code",
      "source": [
        "bool #True or False\n",
        "float #Decimal numbers\n",
        "int #whole number\n",
        "str #in inverted commas\n",
        "list\n",
        "tuple\n",
        "dict"
      ],
      "metadata": {
        "id": "tw4t-xDYemST"
      },
      "execution_count": null,
      "outputs": []
    },
    {
      "cell_type": "code",
      "source": [
        "type(2)"
      ],
      "metadata": {
        "colab": {
          "base_uri": "https://localhost:8080/"
        },
        "id": "-bt8NysZfVa0",
        "outputId": "bbee084f-e504-44c2-a34a-ddd70bc6b1fe"
      },
      "execution_count": null,
      "outputs": [
        {
          "output_type": "execute_result",
          "data": {
            "text/plain": [
              "int"
            ]
          },
          "metadata": {},
          "execution_count": 11
        }
      ]
    },
    {
      "cell_type": "code",
      "source": [
        "type(2.2)"
      ],
      "metadata": {
        "colab": {
          "base_uri": "https://localhost:8080/"
        },
        "id": "SQ38445-ff8u",
        "outputId": "07117d25-1705-4867-f3ba-59e62db3bfd7"
      },
      "execution_count": null,
      "outputs": [
        {
          "output_type": "execute_result",
          "data": {
            "text/plain": [
              "float"
            ]
          },
          "metadata": {},
          "execution_count": 12
        }
      ]
    },
    {
      "cell_type": "code",
      "source": [
        "type(True)"
      ],
      "metadata": {
        "colab": {
          "base_uri": "https://localhost:8080/"
        },
        "id": "keqj8_yDfjga",
        "outputId": "c4c74595-d929-4557-b6b6-7e77d4b089a6"
      },
      "execution_count": null,
      "outputs": [
        {
          "output_type": "execute_result",
          "data": {
            "text/plain": [
              "bool"
            ]
          },
          "metadata": {},
          "execution_count": 13
        }
      ]
    },
    {
      "cell_type": "code",
      "source": [
        "type(\"Python\")"
      ],
      "metadata": {
        "colab": {
          "base_uri": "https://localhost:8080/"
        },
        "id": "uwz-vXX_fvHY",
        "outputId": "47e4ee77-a53d-4632-eac5-9c909bf7f5bc"
      },
      "execution_count": null,
      "outputs": [
        {
          "output_type": "execute_result",
          "data": {
            "text/plain": [
              "str"
            ]
          },
          "metadata": {},
          "execution_count": 14
        }
      ]
    },
    {
      "cell_type": "code",
      "source": [
        "type([1,2,3])"
      ],
      "metadata": {
        "colab": {
          "base_uri": "https://localhost:8080/"
        },
        "id": "jiELgGMsf3jF",
        "outputId": "6d68c16b-404e-4698-f2e8-186a1a22eacb"
      },
      "execution_count": null,
      "outputs": [
        {
          "output_type": "execute_result",
          "data": {
            "text/plain": [
              "list"
            ]
          },
          "metadata": {},
          "execution_count": 16
        }
      ]
    },
    {
      "cell_type": "code",
      "source": [
        "type({\"apple\", \"mango\"})"
      ],
      "metadata": {
        "colab": {
          "base_uri": "https://localhost:8080/"
        },
        "id": "BgeaRVwbgDiu",
        "outputId": "cfdf6c13-facf-4dd8-ade0-1d976d561832"
      },
      "execution_count": null,
      "outputs": [
        {
          "output_type": "execute_result",
          "data": {
            "text/plain": [
              "set"
            ]
          },
          "metadata": {},
          "execution_count": 17
        }
      ]
    },
    {
      "cell_type": "code",
      "source": [
        "country_name = \"United Kingdom\"\n",
        "print(country_name)"
      ],
      "metadata": {
        "colab": {
          "base_uri": "https://localhost:8080/"
        },
        "id": "qjAAVmZTgVd7",
        "outputId": "2df29cf6-3452-4070-dac5-308ac7bb96e3"
      },
      "execution_count": null,
      "outputs": [
        {
          "output_type": "stream",
          "name": "stdout",
          "text": [
            "United Kingdom\n"
          ]
        }
      ]
    },
    {
      "cell_type": "code",
      "source": [
        "mystring = \"This is a string\" #showing the length of the value of the variable\n",
        "len(mystring)"
      ],
      "metadata": {
        "colab": {
          "base_uri": "https://localhost:8080/"
        },
        "id": "Aro7cMY7h3ki",
        "outputId": "1d17edaf-92e6-4a27-96a7-205ea9e7efdb"
      },
      "execution_count": null,
      "outputs": [
        {
          "output_type": "execute_result",
          "data": {
            "text/plain": [
              "16"
            ]
          },
          "metadata": {},
          "execution_count": 22
        }
      ]
    },
    {
      "cell_type": "code",
      "source": [
        "num = 423\n",
        "type(num)"
      ],
      "metadata": {
        "colab": {
          "base_uri": "https://localhost:8080/"
        },
        "id": "RSnKqA7miSfQ",
        "outputId": "b2143d8a-efe1-4dcd-d14a-8d12275a993c"
      },
      "execution_count": null,
      "outputs": [
        {
          "output_type": "execute_result",
          "data": {
            "text/plain": [
              "int"
            ]
          },
          "metadata": {},
          "execution_count": 24
        }
      ]
    },
    {
      "cell_type": "code",
      "source": [
        "str(num) #changing data type (int to str)"
      ],
      "metadata": {
        "colab": {
          "base_uri": "https://localhost:8080/",
          "height": 37
        },
        "id": "b2-eBqVaknby",
        "outputId": "e8fe57ca-e79b-4a47-96b5-ba7ea709d777"
      },
      "execution_count": null,
      "outputs": [
        {
          "output_type": "execute_result",
          "data": {
            "text/plain": [
              "'423'"
            ],
            "application/vnd.google.colaboratory.intrinsic+json": {
              "type": "string"
            }
          },
          "metadata": {},
          "execution_count": 26
        }
      ]
    },
    {
      "cell_type": "code",
      "source": [
        "num1 = 4.236\n",
        "type(num1)"
      ],
      "metadata": {
        "colab": {
          "base_uri": "https://localhost:8080/"
        },
        "id": "0fiiLhQ6k8ob",
        "outputId": "9ea2abc5-d5fd-4bb6-be92-6d346ad226ea"
      },
      "execution_count": null,
      "outputs": [
        {
          "output_type": "execute_result",
          "data": {
            "text/plain": [
              "float"
            ]
          },
          "metadata": {},
          "execution_count": 27
        }
      ]
    },
    {
      "cell_type": "code",
      "source": [
        "int(num1)"
      ],
      "metadata": {
        "colab": {
          "base_uri": "https://localhost:8080/"
        },
        "id": "mf2_fqLGlEg6",
        "outputId": "f9503502-231b-4661-eed7-0fa41734979e"
      },
      "execution_count": null,
      "outputs": [
        {
          "output_type": "execute_result",
          "data": {
            "text/plain": [
              "4"
            ]
          },
          "metadata": {},
          "execution_count": 28
        }
      ]
    },
    {
      "cell_type": "code",
      "source": [
        "num2 = \"453\"\n",
        "type(num2)"
      ],
      "metadata": {
        "colab": {
          "base_uri": "https://localhost:8080/"
        },
        "id": "UcDwNOEelHed",
        "outputId": "904c719d-05a9-48e5-bcec-30e34235dcc7"
      },
      "execution_count": null,
      "outputs": [
        {
          "output_type": "execute_result",
          "data": {
            "text/plain": [
              "str"
            ]
          },
          "metadata": {},
          "execution_count": 29
        }
      ]
    },
    {
      "cell_type": "code",
      "source": [
        "int(num2)"
      ],
      "metadata": {
        "colab": {
          "base_uri": "https://localhost:8080/"
        },
        "id": "CzUm0ikdlTqP",
        "outputId": "127d7033-a868-4c9c-ecfa-cb3b41b79cc5"
      },
      "execution_count": null,
      "outputs": [
        {
          "output_type": "execute_result",
          "data": {
            "text/plain": [
              "453"
            ]
          },
          "metadata": {},
          "execution_count": 30
        }
      ]
    },
    {
      "cell_type": "code",
      "source": [
        "num3 = \"print\"\n",
        "type(num3)"
      ],
      "metadata": {
        "colab": {
          "base_uri": "https://localhost:8080/"
        },
        "id": "LT4uR4hVlWcz",
        "outputId": "4ef6712e-4ac4-49cd-a66a-4d4251c43d2f"
      },
      "execution_count": null,
      "outputs": [
        {
          "output_type": "execute_result",
          "data": {
            "text/plain": [
              "str"
            ]
          },
          "metadata": {},
          "execution_count": 31
        }
      ]
    },
    {
      "cell_type": "markdown",
      "source": [
        "## **Using backslash**"
      ],
      "metadata": {
        "id": "4qJb9AQDrERH"
      }
    },
    {
      "cell_type": "code",
      "source": [
        "print(\"Their apparent \\\"intention\\\" was not \\\"honest\\\"\") #using backslash"
      ],
      "metadata": {
        "colab": {
          "base_uri": "https://localhost:8080/"
        },
        "id": "FHAnWgaclzoi",
        "outputId": "5176f39a-e49b-4178-a6c2-b5bdd19b6ccb"
      },
      "execution_count": null,
      "outputs": [
        {
          "output_type": "stream",
          "name": "stdout",
          "text": [
            "Their apparent \"intention\" was not \"honest\"\n"
          ]
        }
      ]
    },
    {
      "cell_type": "code",
      "source": [
        "print(\"Their apparent \\nintention was not \\\"honest\\\"\") #using \\n to put into another line"
      ],
      "metadata": {
        "colab": {
          "base_uri": "https://localhost:8080/"
        },
        "id": "o-_HaAaMmePl",
        "outputId": "e4457e4b-24a3-41a3-b4aa-aabf0ced98ab"
      },
      "execution_count": null,
      "outputs": [
        {
          "output_type": "stream",
          "name": "stdout",
          "text": [
            "Their apparent \n",
            "intention was not \"honest\"\n"
          ]
        }
      ]
    },
    {
      "cell_type": "code",
      "source": [
        "print(\"Their apparent \\tintention was not \\\"honest\\\"\") #using \\t to create space"
      ],
      "metadata": {
        "colab": {
          "base_uri": "https://localhost:8080/"
        },
        "id": "imsz-RuRnJR4",
        "outputId": "fcb28398-1c83-4fa7-bf0f-839536d588a1"
      },
      "execution_count": null,
      "outputs": [
        {
          "output_type": "stream",
          "name": "stdout",
          "text": [
            "Their apparent \tintention was not \"honest\"\n"
          ]
        }
      ]
    },
    {
      "cell_type": "code",
      "source": [
        "print(\"Their apparent  \\bintention was not \\\"honest\\\"\") #using \\b to reduce space"
      ],
      "metadata": {
        "colab": {
          "base_uri": "https://localhost:8080/"
        },
        "id": "Q8S8nUsznSwO",
        "outputId": "fdddf17b-4eef-4328-f83c-1d3a26a336ed"
      },
      "execution_count": null,
      "outputs": [
        {
          "output_type": "stream",
          "name": "stdout",
          "text": [
            "Their apparent  \bintention was not \"honest\"\n"
          ]
        }
      ]
    },
    {
      "cell_type": "markdown",
      "source": [
        "## **Returning index, starting and stopping value, skipping**"
      ],
      "metadata": {
        "id": "WXWp-7JDrUNQ"
      }
    },
    {
      "cell_type": "code",
      "source": [
        "my_string = \"WORLD\" #returning index\n",
        "my_string[0]"
      ],
      "metadata": {
        "colab": {
          "base_uri": "https://localhost:8080/",
          "height": 37
        },
        "id": "zsrLf-AwndL7",
        "outputId": "498538ff-ded9-4ff9-bd05-1a8338255bb6"
      },
      "execution_count": null,
      "outputs": [
        {
          "output_type": "execute_result",
          "data": {
            "text/plain": [
              "'W'"
            ],
            "application/vnd.google.colaboratory.intrinsic+json": {
              "type": "string"
            }
          },
          "metadata": {},
          "execution_count": 45
        }
      ]
    },
    {
      "cell_type": "code",
      "source": [
        "my_string[-1]"
      ],
      "metadata": {
        "colab": {
          "base_uri": "https://localhost:8080/",
          "height": 37
        },
        "id": "lfMso4dnohu8",
        "outputId": "80ad41f7-9bef-405d-d006-3ee3c9ebcdc4"
      },
      "execution_count": null,
      "outputs": [
        {
          "output_type": "execute_result",
          "data": {
            "text/plain": [
              "'D'"
            ],
            "application/vnd.google.colaboratory.intrinsic+json": {
              "type": "string"
            }
          },
          "metadata": {},
          "execution_count": 46
        }
      ]
    },
    {
      "cell_type": "code",
      "source": [
        "my_string[1:3] #starting value : before stopping value"
      ],
      "metadata": {
        "colab": {
          "base_uri": "https://localhost:8080/",
          "height": 37
        },
        "id": "r9jIXjGMolXo",
        "outputId": "254d2f91-1c82-4352-d600-2b1ac8444e4a"
      },
      "execution_count": null,
      "outputs": [
        {
          "output_type": "execute_result",
          "data": {
            "text/plain": [
              "'OR'"
            ],
            "application/vnd.google.colaboratory.intrinsic+json": {
              "type": "string"
            }
          },
          "metadata": {},
          "execution_count": 47
        }
      ]
    },
    {
      "cell_type": "code",
      "source": [
        "my_string[:4]"
      ],
      "metadata": {
        "colab": {
          "base_uri": "https://localhost:8080/",
          "height": 37
        },
        "id": "W9OLTYrbo2ZC",
        "outputId": "cb9ffabc-8faa-4121-a743-0d9dc1c9d9e0"
      },
      "execution_count": null,
      "outputs": [
        {
          "output_type": "execute_result",
          "data": {
            "text/plain": [
              "'WORL'"
            ],
            "application/vnd.google.colaboratory.intrinsic+json": {
              "type": "string"
            }
          },
          "metadata": {},
          "execution_count": 48
        }
      ]
    },
    {
      "cell_type": "code",
      "source": [
        "my_string[1:]"
      ],
      "metadata": {
        "colab": {
          "base_uri": "https://localhost:8080/",
          "height": 37
        },
        "id": "f4ftNXMgprVe",
        "outputId": "14ea4f11-86d1-45bd-a612-3c72fe10cd0c"
      },
      "execution_count": null,
      "outputs": [
        {
          "output_type": "execute_result",
          "data": {
            "text/plain": [
              "'ORLD'"
            ],
            "application/vnd.google.colaboratory.intrinsic+json": {
              "type": "string"
            }
          },
          "metadata": {},
          "execution_count": 49
        }
      ]
    },
    {
      "cell_type": "code",
      "source": [
        "my_string[::2] #staring : before stopping : skipping "
      ],
      "metadata": {
        "colab": {
          "base_uri": "https://localhost:8080/",
          "height": 37
        },
        "id": "d3N8rMgVp4d4",
        "outputId": "922c1d1c-ed4e-40e6-95f1-e19e368dc037"
      },
      "execution_count": null,
      "outputs": [
        {
          "output_type": "execute_result",
          "data": {
            "text/plain": [
              "'WRD'"
            ],
            "application/vnd.google.colaboratory.intrinsic+json": {
              "type": "string"
            }
          },
          "metadata": {},
          "execution_count": 52
        }
      ]
    },
    {
      "cell_type": "code",
      "source": [
        "my_string[::1] #1 does not skip any"
      ],
      "metadata": {
        "colab": {
          "base_uri": "https://localhost:8080/",
          "height": 37
        },
        "id": "Im0fszu9tMi7",
        "outputId": "25667210-1c11-4b69-8425-be28a6756beb"
      },
      "execution_count": null,
      "outputs": [
        {
          "output_type": "execute_result",
          "data": {
            "text/plain": [
              "'WORLD'"
            ],
            "application/vnd.google.colaboratory.intrinsic+json": {
              "type": "string"
            }
          },
          "metadata": {},
          "execution_count": 54
        }
      ]
    },
    {
      "cell_type": "code",
      "source": [
        "my_string[::-2] #counting from backwards"
      ],
      "metadata": {
        "colab": {
          "base_uri": "https://localhost:8080/",
          "height": 37
        },
        "id": "xIhqo-TzsVgg",
        "outputId": "543270f9-682e-4870-b3fa-10b78d598f1e"
      },
      "execution_count": null,
      "outputs": [
        {
          "output_type": "execute_result",
          "data": {
            "text/plain": [
              "'DRW'"
            ],
            "application/vnd.google.colaboratory.intrinsic+json": {
              "type": "string"
            }
          },
          "metadata": {},
          "execution_count": 51
        }
      ]
    },
    {
      "cell_type": "code",
      "source": [
        "my_string[::-1]"
      ],
      "metadata": {
        "colab": {
          "base_uri": "https://localhost:8080/",
          "height": 37
        },
        "id": "3kqgfZZft4mx",
        "outputId": "04f25b9c-ddd7-4cde-f608-2961404a8bdc"
      },
      "execution_count": null,
      "outputs": [
        {
          "output_type": "execute_result",
          "data": {
            "text/plain": [
              "'DLROW'"
            ],
            "application/vnd.google.colaboratory.intrinsic+json": {
              "type": "string"
            }
          },
          "metadata": {},
          "execution_count": 57
        }
      ]
    },
    {
      "cell_type": "code",
      "source": [
        "my_string[::]"
      ],
      "metadata": {
        "colab": {
          "base_uri": "https://localhost:8080/",
          "height": 37
        },
        "id": "sy8JfxbOs_Il",
        "outputId": "bcebf7f2-162e-4e60-bd54-cec80a7cc8e8"
      },
      "execution_count": null,
      "outputs": [
        {
          "output_type": "execute_result",
          "data": {
            "text/plain": [
              "'WORLD'"
            ],
            "application/vnd.google.colaboratory.intrinsic+json": {
              "type": "string"
            }
          },
          "metadata": {},
          "execution_count": 55
        }
      ]
    },
    {
      "cell_type": "code",
      "source": [
        "my_string[:]"
      ],
      "metadata": {
        "colab": {
          "base_uri": "https://localhost:8080/",
          "height": 37
        },
        "id": "gDFiOAYltiMA",
        "outputId": "27212863-18cf-4eb6-abdf-b16b32cf2c9d"
      },
      "execution_count": null,
      "outputs": [
        {
          "output_type": "execute_result",
          "data": {
            "text/plain": [
              "'WORLD'"
            ],
            "application/vnd.google.colaboratory.intrinsic+json": {
              "type": "string"
            }
          },
          "metadata": {},
          "execution_count": 56
        }
      ]
    },
    {
      "cell_type": "markdown",
      "source": [
        "## **Adding values**"
      ],
      "metadata": {
        "id": "7QrasVWeg67v"
      }
    },
    {
      "cell_type": "code",
      "source": [
        "str1 = \"I enjoy python\"\n",
        "str2 = \" class\"\n",
        "print(str1+str2)"
      ],
      "metadata": {
        "id": "FfxU2Z3ghGH3",
        "colab": {
          "base_uri": "https://localhost:8080/"
        },
        "outputId": "0ccc90af-7f1f-40a0-b7a7-4b030b94e6c0"
      },
      "execution_count": 40,
      "outputs": [
        {
          "output_type": "stream",
          "name": "stdout",
          "text": [
            "I enjoy python class\n"
          ]
        }
      ]
    },
    {
      "cell_type": "code",
      "source": [
        "print(str1)"
      ],
      "metadata": {
        "colab": {
          "base_uri": "https://localhost:8080/"
        },
        "id": "ayrB0_cplvO3",
        "outputId": "fc463118-fb99-4ba3-deca-bef67c6014a7"
      },
      "execution_count": null,
      "outputs": [
        {
          "output_type": "stream",
          "name": "stdout",
          "text": [
            "I enjoy python\n"
          ]
        }
      ]
    },
    {
      "cell_type": "code",
      "source": [
        "str3 = \"Write this 5 times\\n\" #make the string value separately\n",
        "print(str3*5)"
      ],
      "metadata": {
        "colab": {
          "base_uri": "https://localhost:8080/"
        },
        "id": "3mmOEg8dl3eG",
        "outputId": "1b4c7136-1c17-4a61-9f88-27b55e70eb56"
      },
      "execution_count": null,
      "outputs": [
        {
          "output_type": "stream",
          "name": "stdout",
          "text": [
            "Write this 5 times\n",
            "Write this 5 times\n",
            "Write this 5 times\n",
            "Write this 5 times\n",
            "Write this 5 times\n",
            "\n"
          ]
        }
      ]
    },
    {
      "cell_type": "code",
      "source": [
        "\"10\"+\"6\" #adding string value"
      ],
      "metadata": {
        "colab": {
          "base_uri": "https://localhost:8080/",
          "height": 37
        },
        "id": "L1H4yNuCoCV9",
        "outputId": "0260f684-bc7e-4461-fb6e-85fa3021cd31"
      },
      "execution_count": null,
      "outputs": [
        {
          "output_type": "execute_result",
          "data": {
            "text/plain": [
              "'106'"
            ],
            "application/vnd.google.colaboratory.intrinsic+json": {
              "type": "string"
            }
          },
          "metadata": {},
          "execution_count": 18
        }
      ]
    },
    {
      "cell_type": "code",
      "source": [
        "10+6 #adding integer value"
      ],
      "metadata": {
        "colab": {
          "base_uri": "https://localhost:8080/"
        },
        "id": "rVwN1YQfojxf",
        "outputId": "4d56bdab-35d0-4d61-c7ba-b70f9af2a65d"
      },
      "execution_count": null,
      "outputs": [
        {
          "output_type": "execute_result",
          "data": {
            "text/plain": [
              "16"
            ]
          },
          "metadata": {},
          "execution_count": 19
        }
      ]
    },
    {
      "cell_type": "code",
      "source": [
        "str4 = \"123\"\n",
        "print(id(str4))"
      ],
      "metadata": {
        "colab": {
          "base_uri": "https://localhost:8080/"
        },
        "id": "QKYgHzuiol04",
        "outputId": "cd4c1a3d-815e-4105-d263-c38bbe336bc1"
      },
      "execution_count": null,
      "outputs": [
        {
          "output_type": "stream",
          "name": "stdout",
          "text": [
            "140055780074736\n"
          ]
        }
      ]
    },
    {
      "cell_type": "code",
      "source": [
        "str4 = \"234\"\n",
        "print(id(\"234\"))"
      ],
      "metadata": {
        "id": "XJjyM4K4pNf1",
        "colab": {
          "base_uri": "https://localhost:8080/"
        },
        "outputId": "8e65f4d2-0d1b-4236-d8b3-6ef50d4881cb"
      },
      "execution_count": null,
      "outputs": [
        {
          "output_type": "stream",
          "name": "stdout",
          "text": [
            "140055701335664\n"
          ]
        }
      ]
    },
    {
      "cell_type": "code",
      "source": [
        "print(str4)"
      ],
      "metadata": {
        "colab": {
          "base_uri": "https://localhost:8080/"
        },
        "id": "ldfoSAF2qxFc",
        "outputId": "1d7b7800-3d9e-4721-95ab-9ca41f0fd5fe"
      },
      "execution_count": null,
      "outputs": [
        {
          "output_type": "stream",
          "name": "stdout",
          "text": [
            "234\n"
          ]
        }
      ]
    },
    {
      "cell_type": "markdown",
      "source": [
        "## **casefold(), upper(), count(), find(), replace(), split()**"
      ],
      "metadata": {
        "id": "kz6gjgYctsRU"
      }
    },
    {
      "cell_type": "code",
      "source": [
        "mystring = \"THIS IS UPPER CASE\" #casefold returns the value into small letters\n",
        "mystring.casefold()"
      ],
      "metadata": {
        "colab": {
          "base_uri": "https://localhost:8080/",
          "height": 37
        },
        "id": "oe5-X2CmrF-T",
        "outputId": "5a327d63-838b-49cb-d9f2-5fd3f51b39a0"
      },
      "execution_count": null,
      "outputs": [
        {
          "output_type": "execute_result",
          "data": {
            "text/plain": [
              "'this is upper case'"
            ],
            "application/vnd.google.colaboratory.intrinsic+json": {
              "type": "string"
            }
          },
          "metadata": {},
          "execution_count": 30
        }
      ]
    },
    {
      "cell_type": "code",
      "source": [
        "mystring2 = \"this is upper case!\" #upper returns the value into capital letters\n",
        "mystring.upper()"
      ],
      "metadata": {
        "colab": {
          "base_uri": "https://localhost:8080/",
          "height": 37
        },
        "id": "Y7NNA80LsUCG",
        "outputId": "b2fb5b71-3a4c-495d-967c-c73ba1205c51"
      },
      "execution_count": null,
      "outputs": [
        {
          "output_type": "execute_result",
          "data": {
            "text/plain": [
              "'THIS IS UPPER CASE'"
            ],
            "application/vnd.google.colaboratory.intrinsic+json": {
              "type": "string"
            }
          },
          "metadata": {},
          "execution_count": 40
        }
      ]
    },
    {
      "cell_type": "code",
      "source": [
        "mystring2.count(\"i\") #counting i in the string"
      ],
      "metadata": {
        "colab": {
          "base_uri": "https://localhost:8080/"
        },
        "id": "becixpTtsf1K",
        "outputId": "4ac360d0-919a-4c34-f1e2-8f91b7f7513b"
      },
      "execution_count": null,
      "outputs": [
        {
          "output_type": "execute_result",
          "data": {
            "text/plain": [
              "2"
            ]
          },
          "metadata": {},
          "execution_count": 36
        }
      ]
    },
    {
      "cell_type": "code",
      "source": [
        "mystring2.find(\"t\") #using find"
      ],
      "metadata": {
        "colab": {
          "base_uri": "https://localhost:8080/"
        },
        "id": "_KN48d3hsnXo",
        "outputId": "327fffa1-e665-4690-c4be-ab7445eb68f5"
      },
      "execution_count": null,
      "outputs": [
        {
          "output_type": "execute_result",
          "data": {
            "text/plain": [
              "0"
            ]
          },
          "metadata": {},
          "execution_count": 38
        }
      ]
    },
    {
      "cell_type": "code",
      "source": [
        "mystring2.replace(\"i\",\"e\") #replacing i with e"
      ],
      "metadata": {
        "colab": {
          "base_uri": "https://localhost:8080/",
          "height": 37
        },
        "id": "hh53TYBPtK-d",
        "outputId": "994f94c5-1cf5-4114-c3d2-10722e775ac7"
      },
      "execution_count": null,
      "outputs": [
        {
          "output_type": "execute_result",
          "data": {
            "text/plain": [
              "'thes es upper case'"
            ],
            "application/vnd.google.colaboratory.intrinsic+json": {
              "type": "string"
            }
          },
          "metadata": {},
          "execution_count": 39
        }
      ]
    },
    {
      "cell_type": "code",
      "source": [
        "mystring2.split() #using split to split according to the spaces"
      ],
      "metadata": {
        "colab": {
          "base_uri": "https://localhost:8080/"
        },
        "id": "XTbIrhZCtoBQ",
        "outputId": "7c049ab3-508c-495b-e3a5-b787666d14aa"
      },
      "execution_count": null,
      "outputs": [
        {
          "output_type": "execute_result",
          "data": {
            "text/plain": [
              "['this', 'is', 'upper', 'case!']"
            ]
          },
          "metadata": {},
          "execution_count": 41
        }
      ]
    },
    {
      "cell_type": "code",
      "source": [
        "mystring2.split('!')"
      ],
      "metadata": {
        "colab": {
          "base_uri": "https://localhost:8080/"
        },
        "id": "L0c2KkQTuGBa",
        "outputId": "c3c98225-408c-4a94-c875-440232c6099c"
      },
      "execution_count": null,
      "outputs": [
        {
          "output_type": "execute_result",
          "data": {
            "text/plain": [
              "['this is upper case', '']"
            ]
          },
          "metadata": {},
          "execution_count": 43
        }
      ]
    },
    {
      "cell_type": "markdown",
      "source": [
        "## **Using format()**"
      ],
      "metadata": {
        "id": "cSo0X1nWt8TI"
      }
    },
    {
      "cell_type": "code",
      "source": [
        "\"My salary will be {} by next April\".format(10000) #joining different data type using format"
      ],
      "metadata": {
        "colab": {
          "base_uri": "https://localhost:8080/",
          "height": 37
        },
        "id": "fUl1eM5GuUB0",
        "outputId": "8865e15e-d14f-4fe1-d1e4-ce4f6181eab6"
      },
      "execution_count": null,
      "outputs": [
        {
          "output_type": "execute_result",
          "data": {
            "text/plain": [
              "'My salary will be 10000 by next April'"
            ],
            "application/vnd.google.colaboratory.intrinsic+json": {
              "type": "string"
            }
          },
          "metadata": {},
          "execution_count": 44
        }
      ]
    },
    {
      "cell_type": "code",
      "source": [
        "mystring4 = \"My salary will be {} by next {}\" #using format in different form\n",
        "salary = 10000\n",
        "period = \"April\"\n",
        "print(mystring4.format(salary, period))"
      ],
      "metadata": {
        "colab": {
          "base_uri": "https://localhost:8080/"
        },
        "id": "4PqxUx7vvq0v",
        "outputId": "1e5f17fa-76b8-48bc-8c8f-6cc4f0720efa"
      },
      "execution_count": null,
      "outputs": [
        {
          "output_type": "stream",
          "name": "stdout",
          "text": [
            "My salary will be 10000 by next April\n"
          ]
        }
      ]
    },
    {
      "cell_type": "code",
      "source": [
        "mystring5 = \"I bought {1} kg of {2} that cost me {0} pounds\" #output returns according to the numbers (0,1,2)\n",
        "product = \"apples\"\n",
        "weight = 10\n",
        "cost = 25\n",
        "print(mystring5.format(cost, weight, product))\n"
      ],
      "metadata": {
        "id": "I0ZD1GRqwnby",
        "colab": {
          "base_uri": "https://localhost:8080/"
        },
        "outputId": "d79049a2-9d17-49b6-dd7b-84cdca7b2e46"
      },
      "execution_count": null,
      "outputs": [
        {
          "output_type": "stream",
          "name": "stdout",
          "text": [
            "I bought 10 kg of apples that cost me 25 pounds\n"
          ]
        }
      ]
    },
    {
      "cell_type": "code",
      "source": [
        "mystring6 = \"I bought {a} kg of {b} that cost me {c} pounds\" #another way of returning values\n",
        "product = \"apples\"\n",
        "weight = 10\n",
        "cost = 25\n",
        "print(mystring6.format(a = weight, b = product, c = cost))"
      ],
      "metadata": {
        "colab": {
          "base_uri": "https://localhost:8080/"
        },
        "id": "692SMoJC_fhL",
        "outputId": "a5bbf1cf-3911-4589-9bca-4d762c2dbcfd"
      },
      "execution_count": null,
      "outputs": [
        {
          "output_type": "stream",
          "name": "stdout",
          "text": [
            "I bought 10 kg of apples that cost me 25 pounds\n"
          ]
        }
      ]
    },
    {
      "cell_type": "markdown",
      "source": [
        "## **Round value and make calculations**"
      ],
      "metadata": {
        "id": "QY3VtatbuIdw"
      }
    },
    {
      "cell_type": "code",
      "source": [
        "var1 = 10/7"
      ],
      "metadata": {
        "id": "MsgquaadCHEW"
      },
      "execution_count": null,
      "outputs": []
    },
    {
      "cell_type": "code",
      "source": [
        "round(var1 ,5) #round the value to 5 decimal places"
      ],
      "metadata": {
        "colab": {
          "base_uri": "https://localhost:8080/"
        },
        "id": "Cb57alFpF6YT",
        "outputId": "c397e710-9746-4c2d-bfac-00bb23d6ca04"
      },
      "execution_count": null,
      "outputs": [
        {
          "output_type": "execute_result",
          "data": {
            "text/plain": [
              "1.42857"
            ]
          },
          "metadata": {},
          "execution_count": 21
        }
      ]
    },
    {
      "cell_type": "code",
      "source": [
        "print(\"value is {v:1.4f}\".format(v= 10/6)) #.4 = 4 decimal place, f = float"
      ],
      "metadata": {
        "colab": {
          "base_uri": "https://localhost:8080/"
        },
        "id": "INIZGLLcF9RZ",
        "outputId": "fb5a09a2-ba3d-4cad-e53e-6c7d09ad332e"
      },
      "execution_count": null,
      "outputs": [
        {
          "output_type": "stream",
          "name": "stdout",
          "text": [
            "value is 1.6667\n"
          ]
        }
      ]
    },
    {
      "cell_type": "code",
      "source": [
        "help(format)"
      ],
      "metadata": {
        "colab": {
          "base_uri": "https://localhost:8080/"
        },
        "id": "s3LBEIQcMu3u",
        "outputId": "08bb0a69-ea2d-48da-e061-b176d339ed7b"
      },
      "execution_count": null,
      "outputs": [
        {
          "output_type": "stream",
          "name": "stdout",
          "text": [
            "Help on built-in function format in module builtins:\n",
            "\n",
            "format(value, format_spec='', /)\n",
            "    Return value.__format__(format_spec)\n",
            "    \n",
            "    format_spec defaults to the empty string.\n",
            "    See the Format Specification Mini-Language section of help('FORMATTING') for\n",
            "    details.\n",
            "\n"
          ]
        }
      ]
    },
    {
      "cell_type": "code",
      "source": [
        "print(\"I am roaming %s and %s\"%(\"here\", \"there\")) #s = string"
      ],
      "metadata": {
        "colab": {
          "base_uri": "https://localhost:8080/"
        },
        "id": "SGF5aZmHGmRT",
        "outputId": "f8bf1fa9-c755-467a-ad21-38527f929fdd"
      },
      "execution_count": null,
      "outputs": [
        {
          "output_type": "stream",
          "name": "stdout",
          "text": [
            "I am roaming here and there\n"
          ]
        }
      ]
    },
    {
      "cell_type": "code",
      "source": [
        "print(\"I am roaming %d and %f\"%(100, 2.5)) #d = digit, f = float"
      ],
      "metadata": {
        "colab": {
          "base_uri": "https://localhost:8080/"
        },
        "id": "qdxGSVf-Hrwc",
        "outputId": "8d183b17-6f2e-44f7-fc6f-898244d1b927"
      },
      "execution_count": null,
      "outputs": [
        {
          "output_type": "stream",
          "name": "stdout",
          "text": [
            "I am roaming 100 and 2.500000\n"
          ]
        }
      ]
    },
    {
      "cell_type": "code",
      "source": [
        "2**3 #** = power"
      ],
      "metadata": {
        "colab": {
          "base_uri": "https://localhost:8080/"
        },
        "id": "UIb7mCLVIC-X",
        "outputId": "2e45b462-5067-4f34-e9fa-e14fb7946583"
      },
      "execution_count": null,
      "outputs": [
        {
          "output_type": "execute_result",
          "data": {
            "text/plain": [
              "8"
            ]
          },
          "metadata": {},
          "execution_count": 38
        }
      ]
    },
    {
      "cell_type": "code",
      "source": [
        "7%3 # % shows the remainder"
      ],
      "metadata": {
        "colab": {
          "base_uri": "https://localhost:8080/"
        },
        "id": "BcatHpBwJDYK",
        "outputId": "64cc5542-6e95-4d76-e7fc-b884a3e4518d"
      },
      "execution_count": null,
      "outputs": [
        {
          "output_type": "execute_result",
          "data": {
            "text/plain": [
              "1"
            ]
          },
          "metadata": {},
          "execution_count": 42
        }
      ]
    },
    {
      "cell_type": "code",
      "source": [
        "(5+3*6.66/12)**2 #making calculations"
      ],
      "metadata": {
        "colab": {
          "base_uri": "https://localhost:8080/"
        },
        "id": "Q6EsRuIqJXrY",
        "outputId": "a10c1811-3fd2-4871-a852-77ec1282102f"
      },
      "execution_count": null,
      "outputs": [
        {
          "output_type": "execute_result",
          "data": {
            "text/plain": [
              "44.422225"
            ]
          },
          "metadata": {},
          "execution_count": 43
        }
      ]
    },
    {
      "cell_type": "code",
      "source": [
        "5==7, 5!=7, 5>7, 5<=7"
      ],
      "metadata": {
        "colab": {
          "base_uri": "https://localhost:8080/"
        },
        "id": "x5VQXA8OKBpv",
        "outputId": "5681322e-6d60-4737-f8a4-ccf9b2be54c9"
      },
      "execution_count": null,
      "outputs": [
        {
          "output_type": "execute_result",
          "data": {
            "text/plain": [
              "(False, True, False, True)"
            ]
          },
          "metadata": {},
          "execution_count": 48
        }
      ]
    },
    {
      "cell_type": "code",
      "source": [
        "r = 5.2\n",
        "pi = 3.14\n",
        "circum = 2*pi*r\n",
        "print(circum)\n",
        "circum < 20"
      ],
      "metadata": {
        "colab": {
          "base_uri": "https://localhost:8080/"
        },
        "id": "Zi0wNk0JKZH1",
        "outputId": "6b98112a-5700-4775-93f7-c65ad8496933"
      },
      "execution_count": null,
      "outputs": [
        {
          "output_type": "stream",
          "name": "stdout",
          "text": [
            "32.656000000000006\n"
          ]
        },
        {
          "output_type": "execute_result",
          "data": {
            "text/plain": [
              "False"
            ]
          },
          "metadata": {},
          "execution_count": 47
        }
      ]
    },
    {
      "cell_type": "code",
      "source": [
        "a = 5 #Testing boolean values\n",
        "a>3 and a>4, a<3 and a<4"
      ],
      "metadata": {
        "colab": {
          "base_uri": "https://localhost:8080/"
        },
        "id": "3bx3TpDjK48z",
        "outputId": "f4736a22-8667-4446-b1cd-c68d8994c83f"
      },
      "execution_count": null,
      "outputs": [
        {
          "output_type": "execute_result",
          "data": {
            "text/plain": [
              "(True, False)"
            ]
          },
          "metadata": {},
          "execution_count": 51
        }
      ]
    },
    {
      "cell_type": "code",
      "source": [
        "not(3<5)"
      ],
      "metadata": {
        "colab": {
          "base_uri": "https://localhost:8080/"
        },
        "id": "1RJ2j6NcLOFo",
        "outputId": "820a61b2-e6d5-4766-b2fc-7bf500763afd"
      },
      "execution_count": null,
      "outputs": [
        {
          "output_type": "execute_result",
          "data": {
            "text/plain": [
              "False"
            ]
          },
          "metadata": {},
          "execution_count": 52
        }
      ]
    },
    {
      "cell_type": "code",
      "source": [
        "x = 5.5\n",
        "type(x)"
      ],
      "metadata": {
        "colab": {
          "base_uri": "https://localhost:8080/"
        },
        "id": "4g6dVkAPLqKr",
        "outputId": "a278c6c6-ac83-42e4-f107-ee70a21fb448"
      },
      "execution_count": null,
      "outputs": [
        {
          "output_type": "execute_result",
          "data": {
            "text/plain": [
              "float"
            ]
          },
          "metadata": {},
          "execution_count": 53
        }
      ]
    },
    {
      "cell_type": "code",
      "source": [
        "int(x)"
      ],
      "metadata": {
        "colab": {
          "base_uri": "https://localhost:8080/"
        },
        "id": "LxoG9dYXMFQe",
        "outputId": "099c7c89-3a87-4bf2-c101-87b513e98456"
      },
      "execution_count": null,
      "outputs": [
        {
          "output_type": "execute_result",
          "data": {
            "text/plain": [
              "5"
            ]
          },
          "metadata": {},
          "execution_count": 54
        }
      ]
    },
    {
      "cell_type": "markdown",
      "source": [
        "# **Python 2nd Week**"
      ],
      "metadata": {
        "id": "uhO0IkiPBEp7"
      }
    },
    {
      "cell_type": "markdown",
      "source": [
        "## **If, Elif, Else**"
      ],
      "metadata": {
        "id": "XHAO1fQZqNIP"
      }
    },
    {
      "cell_type": "code",
      "source": [
        "x = 10 #Defining the condition\n",
        "if x%2 == 0: #use : to check whether the conditions are satisfied or not\n",
        "  print(\"This is an even number\")\n",
        "else:\n",
        "  print(\"This is not an even number\")"
      ],
      "metadata": {
        "id": "9Kd4ENiKMiGb",
        "colab": {
          "base_uri": "https://localhost:8080/"
        },
        "outputId": "7a9e94ec-3d54-4616-eb4f-ae65e31a39fc"
      },
      "execution_count": null,
      "outputs": [
        {
          "output_type": "stream",
          "name": "stdout",
          "text": [
            "This is an even number\n"
          ]
        }
      ]
    },
    {
      "cell_type": "code",
      "source": [
        "a,b = 12,12\n",
        "if a == b:\n",
        "  print(\"The two numbers are equal\")\n",
        "elif a > b:\n",
        "  print(\"The first number is greater than the second\")\n",
        "else:\n",
        "  print(\"The first number is smaller than the second\")"
      ],
      "metadata": {
        "colab": {
          "base_uri": "https://localhost:8080/"
        },
        "id": "ofC6p0s5CSvc",
        "outputId": "5ef396f3-2fcb-491e-82fb-dc2097f8b531"
      },
      "execution_count": null,
      "outputs": [
        {
          "output_type": "stream",
          "name": "stdout",
          "text": [
            "The two numbers are equal\n"
          ]
        }
      ]
    },
    {
      "cell_type": "code",
      "source": [
        "x = -5\n",
        "if x == 0:\n",
        "  print(\"x is equal to 0\")\n",
        "elif x > 0:\n",
        "  print(\"x is positive\")\n",
        "else:\n",
        "  print(\"x is negative\")"
      ],
      "metadata": {
        "colab": {
          "base_uri": "https://localhost:8080/"
        },
        "id": "StK0SMWgCt1s",
        "outputId": "e56d1c43-d758-4be9-b3a8-b7afbef18c9c"
      },
      "execution_count": null,
      "outputs": [
        {
          "output_type": "stream",
          "name": "stdout",
          "text": [
            "x is negative\n"
          ]
        }
      ]
    },
    {
      "cell_type": "code",
      "source": [
        "#for loop for iteration\n",
        "for i in range(0,5):  #every number from 0 to 10, ignoring the last number\n",
        "  print(\"The iteration is {}\".format(i))\n",
        "  print(\"The End\")"
      ],
      "metadata": {
        "colab": {
          "base_uri": "https://localhost:8080/"
        },
        "id": "6yHiwVjGDX0Q",
        "outputId": "9f99df83-f19d-4a63-8676-b916657526b3"
      },
      "execution_count": null,
      "outputs": [
        {
          "output_type": "stream",
          "name": "stdout",
          "text": [
            "The iteration is 0\n",
            "The iteration is 1\n",
            "The iteration is 2\n",
            "The iteration is 3\n",
            "The iteration is 4\n"
          ]
        }
      ]
    },
    {
      "cell_type": "markdown",
      "source": [
        "## **While loop**"
      ],
      "metadata": {
        "id": "1KvxTK9MqfcU"
      }
    },
    {
      "cell_type": "code",
      "source": [
        "#while loop for looping and stating the condition\n",
        "a = 1\n",
        "while a < 6:\n",
        "  print(a)\n",
        "  a = 1+a\n",
        "print(\"The End!\")  #Be careful of line-spacing"
      ],
      "metadata": {
        "colab": {
          "base_uri": "https://localhost:8080/"
        },
        "id": "LOPZJgerYd5l",
        "outputId": "4a1396be-9ee3-4c4b-a5c7-2921faa6c4e1"
      },
      "execution_count": null,
      "outputs": [
        {
          "output_type": "stream",
          "name": "stdout",
          "text": [
            "1\n",
            "2\n",
            "3\n",
            "4\n",
            "5\n",
            "The End!\n"
          ]
        }
      ]
    },
    {
      "cell_type": "code",
      "source": [
        "a = 1\n",
        "while a < 6:\n",
        "  print(a)\n",
        "  a+= 1   #You can also write in this format\n",
        "print(\"The End!\")"
      ],
      "metadata": {
        "colab": {
          "base_uri": "https://localhost:8080/"
        },
        "id": "1IHjMTCDbkdY",
        "outputId": "36717fdc-75bb-4b94-bdf2-f0fb77511579"
      },
      "execution_count": null,
      "outputs": [
        {
          "output_type": "stream",
          "name": "stdout",
          "text": [
            "1\n",
            "2\n",
            "3\n",
            "4\n",
            "5\n",
            "The End!\n"
          ]
        }
      ]
    },
    {
      "cell_type": "code",
      "source": [
        "targetv = 10 #putting two variables\n",
        "iterate = 2\n",
        "while iterate < targetv:\n",
        "  print(\"The iteration no. is {}, which is less than the target value {}\".format(iterate, targetv))\n",
        "  iterate = iterate+1                                                   \n",
        "print(\"The End!\")"
      ],
      "metadata": {
        "colab": {
          "base_uri": "https://localhost:8080/"
        },
        "id": "GznPLWFRcT6c",
        "outputId": "ada549ca-0fda-4b86-8f79-cccc444ceea4"
      },
      "execution_count": null,
      "outputs": [
        {
          "output_type": "stream",
          "name": "stdout",
          "text": [
            "The iteration no. is 2, which is less than the target value 10\n",
            "The iteration no. is 3, which is less than the target value 10\n",
            "The iteration no. is 4, which is less than the target value 10\n",
            "The iteration no. is 5, which is less than the target value 10\n",
            "The iteration no. is 6, which is less than the target value 10\n",
            "The iteration no. is 7, which is less than the target value 10\n",
            "The iteration no. is 8, which is less than the target value 10\n",
            "The iteration no. is 9, which is less than the target value 10\n",
            "The End!\n"
          ]
        }
      ]
    },
    {
      "cell_type": "markdown",
      "source": [
        "## **For loop**"
      ],
      "metadata": {
        "id": "IyJC4go5qmgs"
      }
    },
    {
      "cell_type": "code",
      "source": [
        "#nested loop (multiplying two loops, outer loops and inner loops)\n",
        "for i in range(1,6):                #outer loop\n",
        "  for j in range(1,11):             #inner loop\n",
        "    print(i*j, end=\" \")             "
      ],
      "metadata": {
        "id": "M9CNii2Hd3Gb",
        "colab": {
          "base_uri": "https://localhost:8080/"
        },
        "outputId": "119c1260-4f81-49c6-c862-79fcd6ed9501"
      },
      "execution_count": 34,
      "outputs": [
        {
          "output_type": "stream",
          "name": "stdout",
          "text": [
            "1 2 3 4 5 6 7 8 9 10 2 4 6 8 10 12 14 16 18 20 3 6 9 12 15 18 21 24 27 30 4 8 12 16 20 24 28 32 36 40 5 10 15 20 25 30 35 40 45 50 "
          ]
        }
      ]
    },
    {
      "cell_type": "code",
      "source": [
        "#nested loop example\n",
        "colours = [\"blue\",\"red\",\"yello\"]\n",
        "cars = [\"BMW\",\"Mercedes\",\"Porche\"]\n",
        "for colour in colours:\n",
        "  for car in cars:\n",
        "    print(colour,car)"
      ],
      "metadata": {
        "colab": {
          "base_uri": "https://localhost:8080/"
        },
        "id": "lb6jJNsHk1Vp",
        "outputId": "65fd6e82-669d-4b99-b174-8136754d103f"
      },
      "execution_count": 31,
      "outputs": [
        {
          "output_type": "stream",
          "name": "stdout",
          "text": [
            "blue BMW\n",
            "blue Mercedes\n",
            "blue Porche\n",
            "red BMW\n",
            "red Mercedes\n",
            "red Porche\n",
            "yello BMW\n",
            "yello Mercedes\n",
            "yello Porche\n"
          ]
        }
      ]
    },
    {
      "cell_type": "markdown",
      "source": [
        "## **Using while, if statement and break**"
      ],
      "metadata": {
        "id": "NGLaYJcluRpQ"
      }
    },
    {
      "cell_type": "code",
      "source": [
        "targetv = 5\n",
        "iterate = 0\n",
        "while iterate < targetv:\n",
        "  print(\"The iteration no. is {}, which is less than the target value {}\".format(iterate, targetv))\n",
        "  if iterate == 3:  #We just want the condition to stop the iteration at 3\n",
        "    print(\"Condition met\") \n",
        "    break          #use break to stop the iteration, otherwise it still goes till iterate<targetv\n",
        "  iterate = iterate+1"
      ],
      "metadata": {
        "colab": {
          "base_uri": "https://localhost:8080/"
        },
        "id": "XH7mXuZrmcnm",
        "outputId": "a4d09f19-29c8-4d25-9a81-20c660b35839"
      },
      "execution_count": 37,
      "outputs": [
        {
          "output_type": "stream",
          "name": "stdout",
          "text": [
            "The iteration no. is 0, which is less than the target value 5\n",
            "The iteration no. is 1, which is less than the target value 5\n",
            "The iteration no. is 2, which is less than the target value 5\n",
            "The iteration no. is 3, which is less than the target value 5\n",
            "Condition met\n",
            "The iteration no. is 4, which is less than the target value 5\n"
          ]
        }
      ]
    },
    {
      "cell_type": "code",
      "source": [],
      "metadata": {
        "id": "HsoGalfNo6dn"
      },
      "execution_count": null,
      "outputs": []
    }
  ]
}