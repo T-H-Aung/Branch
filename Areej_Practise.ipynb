{
  "nbformat": 4,
  "nbformat_minor": 0,
  "metadata": {
    "colab": {
      "provenance": [],
      "toc_visible": true,
      "include_colab_link": true
    },
    "kernelspec": {
      "name": "python3",
      "display_name": "Python 3"
    },
    "language_info": {
      "name": "python"
    }
  },
  "cells": [
    {
      "cell_type": "markdown",
      "metadata": {
        "id": "view-in-github",
        "colab_type": "text"
      },
      "source": [
        "<a href=\"https://colab.research.google.com/github/T-H-Aung/Branch/blob/main/Areej_Practise.ipynb\" target=\"_parent\"><img src=\"https://colab.research.google.com/assets/colab-badge.svg\" alt=\"Open In Colab\"/></a>"
      ]
    },
    {
      "cell_type": "markdown",
      "source": [
        "#Python"
      ],
      "metadata": {
        "id": "f82eePZ9Plag"
      }
    },
    {
      "cell_type": "code",
      "source": [
        "#@title Variables\n",
        "x=5\n",
        "y=\"Hello World !!\"\n",
        "print(x)\n",
        "print(y)"
      ],
      "metadata": {
        "colab": {
          "base_uri": "https://localhost:8080/"
        },
        "id": "bzBqutAOQadS",
        "outputId": "f4c5f362-1e79-4c3e-b376-214be31dfc2f"
      },
      "execution_count": null,
      "outputs": [
        {
          "output_type": "stream",
          "name": "stdout",
          "text": [
            "5\n",
            "Hello World !!\n"
          ]
        }
      ]
    },
    {
      "cell_type": "code",
      "source": [
        "#Casting variables\n",
        "x=str(3)\n",
        "y=int(3)\n",
        "z=float(3)\n",
        "print(x)\n",
        "print(y)\n",
        "print(z)"
      ],
      "metadata": {
        "colab": {
          "base_uri": "https://localhost:8080/"
        },
        "id": "Z2b8hw8dTK9f",
        "outputId": "72f078ba-7bba-4d4e-a213-cb5f69de395f"
      },
      "execution_count": null,
      "outputs": [
        {
          "output_type": "stream",
          "name": "stdout",
          "text": [
            "3\n",
            "3\n",
            "3.0\n"
          ]
        }
      ]
    },
    {
      "cell_type": "code",
      "source": [
        "#Get variable types\n",
        "x=\"Hi\"\n",
        "y=3\n",
        "z=3.5\n",
        "print(\"x is :\",type(x))\n",
        "print(\"y is :\",type(y))\n",
        "print(\"z is :\",type(z))"
      ],
      "metadata": {
        "colab": {
          "base_uri": "https://localhost:8080/"
        },
        "id": "Yx23E_qLUIpu",
        "outputId": "5fbbfa61-d755-4977-ab15-4d9c7239e23f"
      },
      "execution_count": null,
      "outputs": [
        {
          "output_type": "stream",
          "name": "stdout",
          "text": [
            "x is : <class 'str'>\n",
            "y is : <class 'int'>\n",
            "z is : <class 'float'>\n"
          ]
        }
      ]
    },
    {
      "cell_type": "code",
      "source": [
        "# String variable can be declared either by '' or \"\"\n",
        "x='hi'\n",
        "y=\"world\"\n",
        "print(x)\n",
        "print(y)"
      ],
      "metadata": {
        "colab": {
          "base_uri": "https://localhost:8080/"
        },
        "id": "CqJ387_uU9lI",
        "outputId": "3796a5d2-c143-4f03-8ad9-e1e2f2a2de83"
      },
      "execution_count": null,
      "outputs": [
        {
          "output_type": "stream",
          "name": "stdout",
          "text": [
            "hi\n",
            "world\n"
          ]
        }
      ]
    },
    {
      "cell_type": "code",
      "source": [
        "#Variable names are case sensetive\n",
        "x=1\n",
        "X=2\n",
        "print(x)\n",
        "print(X)"
      ],
      "metadata": {
        "colab": {
          "base_uri": "https://localhost:8080/"
        },
        "id": "9PxWxOg0Vfqx",
        "outputId": "ecf8d7c8-e3d1-4a88-9741-48b86b057938"
      },
      "execution_count": null,
      "outputs": [
        {
          "output_type": "stream",
          "name": "stdout",
          "text": [
            "1\n",
            "2\n"
          ]
        }
      ]
    },
    {
      "cell_type": "code",
      "source": [
        "#Many values to multiple variables\n",
        "x,y,z=1,2,3\n",
        "print(x,y,z)"
      ],
      "metadata": {
        "colab": {
          "base_uri": "https://localhost:8080/"
        },
        "id": "pUMfW6h4V9YF",
        "outputId": "06ef6812-ca53-4b74-ac90-dd8b12932315"
      },
      "execution_count": null,
      "outputs": [
        {
          "output_type": "stream",
          "name": "stdout",
          "text": [
            "1 2 3\n"
          ]
        }
      ]
    },
    {
      "cell_type": "code",
      "source": [
        "#one variables to Multiple variables \n",
        "x=y=z=\"Hai\"\n",
        "print(x,y,z)"
      ],
      "metadata": {
        "colab": {
          "base_uri": "https://localhost:8080/"
        },
        "id": "3WVNG95QWWA4",
        "outputId": "45c71197-ca28-4d5f-8160-0904970818bb"
      },
      "execution_count": null,
      "outputs": [
        {
          "output_type": "stream",
          "name": "stdout",
          "text": [
            "Hai Hai Hai\n"
          ]
        }
      ]
    },
    {
      "cell_type": "code",
      "source": [
        "#Unpack a collection\n",
        "numbers=[1,2,3]\n",
        "x,y,z=numbers\n",
        "print(x,y,z)\n"
      ],
      "metadata": {
        "colab": {
          "base_uri": "https://localhost:8080/"
        },
        "id": "PnOC6sOoWl_I",
        "outputId": "ffd26c4b-e9e3-458b-b4cb-fa911faf32a1"
      },
      "execution_count": null,
      "outputs": [
        {
          "output_type": "stream",
          "name": "stdout",
          "text": [
            "1 2 3\n"
          ]
        }
      ]
    },
    {
      "cell_type": "code",
      "source": [
        "#Sum of 2 numbers asign variables\n",
        "a=10\n",
        "b=15\n",
        "c=a+b\n",
        "print(\"Sum 2 numbers is:\",c)"
      ],
      "metadata": {
        "colab": {
          "base_uri": "https://localhost:8080/"
        },
        "id": "8JW3p6-eYfMC",
        "outputId": "8482e7f0-1f28-4d80-95f3-fdde3480a309"
      },
      "execution_count": null,
      "outputs": [
        {
          "output_type": "stream",
          "name": "stdout",
          "text": [
            "Sum 2 numbers is: 25\n"
          ]
        }
      ]
    },
    {
      "cell_type": "code",
      "source": [
        "#@title Comment Syntax\n",
        "#This is my comment syntax\n",
        "print(\"Hello world!!\")"
      ],
      "metadata": {
        "colab": {
          "base_uri": "https://localhost:8080/"
        },
        "id": "BNZEKs12SLti",
        "outputId": "4d6112c2-c0ce-442f-8efb-d6f54f170169"
      },
      "execution_count": null,
      "outputs": [
        {
          "output_type": "stream",
          "name": "stdout",
          "text": [
            "Hello world!!\n"
          ]
        }
      ]
    },
    {
      "cell_type": "code",
      "source": [
        "# This is multiline comments \n",
        "# This is multiline comments\n",
        "print(\"Hello world!!\")"
      ],
      "metadata": {
        "colab": {
          "base_uri": "https://localhost:8080/"
        },
        "id": "vdrzeAaCSh5j",
        "outputId": "0d8efacf-cf97-4c89-9d0b-9da832fe64b8"
      },
      "execution_count": null,
      "outputs": [
        {
          "output_type": "stream",
          "name": "stdout",
          "text": [
            "Hello world!!\n"
          ]
        }
      ]
    },
    {
      "cell_type": "code",
      "source": [
        "#@title Data Type\n",
        "#String\n",
        "a=\"Hai\"\n",
        "type(a)\n"
      ],
      "metadata": {
        "colab": {
          "base_uri": "https://localhost:8080/"
        },
        "id": "iyjXQ3itcF-G",
        "outputId": "d48a0ba6-18c6-47de-dd37-bd7b8516962f"
      },
      "execution_count": null,
      "outputs": [
        {
          "output_type": "execute_result",
          "data": {
            "text/plain": [
              "str"
            ]
          },
          "metadata": {},
          "execution_count": 29
        }
      ]
    },
    {
      "cell_type": "code",
      "source": [
        "#Integer\n",
        "b=5\n",
        "type(b)\n"
      ],
      "metadata": {
        "colab": {
          "base_uri": "https://localhost:8080/"
        },
        "id": "8WLDvXpPcU-c",
        "outputId": "a409a0be-1868-4b86-d466-58a9dadf90d8"
      },
      "execution_count": null,
      "outputs": [
        {
          "output_type": "execute_result",
          "data": {
            "text/plain": [
              "int"
            ]
          },
          "metadata": {},
          "execution_count": 30
        }
      ]
    },
    {
      "cell_type": "code",
      "source": [
        "#Float\n",
        "c=2.50\n",
        "type(c)"
      ],
      "metadata": {
        "colab": {
          "base_uri": "https://localhost:8080/"
        },
        "id": "tDql80b8cdDI",
        "outputId": "240e2bb7-018f-48c9-f657-3a2d425c4633"
      },
      "execution_count": null,
      "outputs": [
        {
          "output_type": "execute_result",
          "data": {
            "text/plain": [
              "float"
            ]
          },
          "metadata": {},
          "execution_count": 31
        }
      ]
    },
    {
      "cell_type": "code",
      "source": [
        "#List\n",
        "d=[1,2,3]\n",
        "type(d)"
      ],
      "metadata": {
        "colab": {
          "base_uri": "https://localhost:8080/"
        },
        "id": "-GXaeiXacmEh",
        "outputId": "68781471-9d14-4c89-b062-7710fb847b91"
      },
      "execution_count": null,
      "outputs": [
        {
          "output_type": "execute_result",
          "data": {
            "text/plain": [
              "list"
            ]
          },
          "metadata": {},
          "execution_count": 32
        }
      ]
    },
    {
      "cell_type": "code",
      "source": [
        "#Tuple\n",
        "e=(1,2,3)\n",
        "type(e)"
      ],
      "metadata": {
        "colab": {
          "base_uri": "https://localhost:8080/"
        },
        "id": "VPKoOnZkcyTc",
        "outputId": "12c21ef7-cad6-4cf0-8cd4-866b5e075264"
      },
      "execution_count": null,
      "outputs": [
        {
          "output_type": "execute_result",
          "data": {
            "text/plain": [
              "tuple"
            ]
          },
          "metadata": {},
          "execution_count": 33
        }
      ]
    },
    {
      "cell_type": "code",
      "source": [
        "#Range\n",
        "f=range(3)\n",
        "print(f)"
      ],
      "metadata": {
        "colab": {
          "base_uri": "https://localhost:8080/"
        },
        "id": "mC31fSXxc8j3",
        "outputId": "a496239c-16d9-45c5-838d-0f07b168266c"
      },
      "execution_count": null,
      "outputs": [
        {
          "output_type": "stream",
          "name": "stdout",
          "text": [
            "range(0, 3)\n"
          ]
        }
      ]
    },
    {
      "cell_type": "code",
      "source": [
        "#Dict\n",
        "g={\"name\": \"Veeru\" ,\"age\":\"12\"}\n",
        "type(g)"
      ],
      "metadata": {
        "colab": {
          "base_uri": "https://localhost:8080/"
        },
        "id": "8miRNU0pdMDj",
        "outputId": "37441e2a-6073-4fe1-ffc9-679497773378"
      },
      "execution_count": null,
      "outputs": [
        {
          "output_type": "execute_result",
          "data": {
            "text/plain": [
              "dict"
            ]
          },
          "metadata": {},
          "execution_count": 36
        }
      ]
    },
    {
      "cell_type": "code",
      "source": [
        "#Set\n",
        "h={1,2,3}\n",
        "type(h)"
      ],
      "metadata": {
        "colab": {
          "base_uri": "https://localhost:8080/"
        },
        "id": "qBjZbcc4dxLU",
        "outputId": "5af22ae2-96be-4892-ac4b-6e9aa57d2f92"
      },
      "execution_count": null,
      "outputs": [
        {
          "output_type": "execute_result",
          "data": {
            "text/plain": [
              "set"
            ]
          },
          "metadata": {},
          "execution_count": 37
        }
      ]
    },
    {
      "cell_type": "code",
      "source": [
        "#Frozen set\n",
        "i=frozenset({1,2,3})\n",
        "type(i)"
      ],
      "metadata": {
        "colab": {
          "base_uri": "https://localhost:8080/"
        },
        "id": "rZ19uRG4d477",
        "outputId": "0e87d7fd-bc51-468e-c4e0-29a2aacc94a7"
      },
      "execution_count": null,
      "outputs": [
        {
          "output_type": "execute_result",
          "data": {
            "text/plain": [
              "frozenset"
            ]
          },
          "metadata": {},
          "execution_count": 38
        }
      ]
    },
    {
      "cell_type": "code",
      "source": [
        "#Boolen\n",
        "j=True\n",
        "type(j)\n"
      ],
      "metadata": {
        "colab": {
          "base_uri": "https://localhost:8080/"
        },
        "id": "7-llp0ZEeJWp",
        "outputId": "748540c3-52e1-4b61-f8e6-83fc12b4292a"
      },
      "execution_count": null,
      "outputs": [
        {
          "output_type": "execute_result",
          "data": {
            "text/plain": [
              "bool"
            ]
          },
          "metadata": {},
          "execution_count": 39
        }
      ]
    },
    {
      "cell_type": "code",
      "source": [
        "#Bytes\n",
        "k=b\"Hello\"\n",
        "type(k)"
      ],
      "metadata": {
        "colab": {
          "base_uri": "https://localhost:8080/"
        },
        "id": "sS1jPRoReW6A",
        "outputId": "e8e77633-f439-4528-a02c-2eff01993c18"
      },
      "execution_count": null,
      "outputs": [
        {
          "output_type": "execute_result",
          "data": {
            "text/plain": [
              "bytes"
            ]
          },
          "metadata": {},
          "execution_count": 40
        }
      ]
    },
    {
      "cell_type": "code",
      "source": [
        "#Byte array\n",
        "l=bytearray(3)\n",
        "type(l)\n",
        "print(l)"
      ],
      "metadata": {
        "colab": {
          "base_uri": "https://localhost:8080/"
        },
        "id": "F5rFSVxuembK",
        "outputId": "a4f6e672-cce7-440d-8544-70b43dcfebce"
      },
      "execution_count": null,
      "outputs": [
        {
          "output_type": "stream",
          "name": "stdout",
          "text": [
            "bytearray(b'\\x00\\x00\\x00')\n"
          ]
        }
      ]
    },
    {
      "cell_type": "code",
      "source": [
        "#@title Data type conversion\n",
        "a=1\n",
        "b=2.1\n",
        "c=\"h\"\n",
        "#Convert integer  into float\n",
        "x=float(a)\n",
        "print(x)\n",
        "print(type(x))\n",
        "\n",
        "#Convert float into integer\n",
        "y=int(b)\n",
        "print(y)\n",
        "print(type(y))\n",
        "\n",
        "#Convert integer to string\n",
        "num=423\n",
        "str(num)\n",
        "#print(type(num))\n"
      ],
      "metadata": {
        "colab": {
          "base_uri": "https://localhost:8080/",
          "height": 105
        },
        "id": "jpOfI0Fkkb6-",
        "outputId": "1fd5ee5b-9d2e-484e-8700-212e2a2672e7"
      },
      "execution_count": null,
      "outputs": [
        {
          "output_type": "stream",
          "name": "stdout",
          "text": [
            "1.0\n",
            "<class 'float'>\n",
            "2\n",
            "<class 'int'>\n"
          ]
        },
        {
          "output_type": "execute_result",
          "data": {
            "text/plain": [
              "'423'"
            ],
            "application/vnd.google.colaboratory.intrinsic+json": {
              "type": "string"
            }
          },
          "metadata": {},
          "execution_count": 6
        }
      ]
    },
    {
      "cell_type": "code",
      "source": [
        "#@title Strings\n",
        "str1=\"Hello welcome to Python\"\n",
        "print(str1)"
      ],
      "metadata": {
        "colab": {
          "base_uri": "https://localhost:8080/"
        },
        "id": "KGGZ31TAOgSw",
        "outputId": "be812c90-2262-4b1a-d601-060445d6a608",
        "cellView": "form"
      },
      "execution_count": null,
      "outputs": [
        {
          "output_type": "stream",
          "name": "stdout",
          "text": [
            "Hello welcome to Python\n"
          ]
        }
      ]
    },
    {
      "cell_type": "code",
      "source": [
        "#Finding string length\n",
        "str2=\"Veera\"\n",
        "print(\"The length of the string is:\",len(str2))"
      ],
      "metadata": {
        "colab": {
          "base_uri": "https://localhost:8080/"
        },
        "id": "47Mi-e-iO9Bw",
        "outputId": "964e1c1c-04dc-4711-cf03-de153dd06cf3"
      },
      "execution_count": null,
      "outputs": [
        {
          "output_type": "stream",
          "name": "stdout",
          "text": [
            "The length of the string is: 5\n"
          ]
        }
      ]
    },
    {
      "cell_type": "code",
      "source": [
        "#String Indexing/Arrays\n",
        "str3=\"hello\"\n",
        "print(\"The indexing of the string is:\",str3[0])\n",
        "print(\"The indexing of the string is :\",str3[-1])"
      ],
      "metadata": {
        "colab": {
          "base_uri": "https://localhost:8080/"
        },
        "id": "0J5-7RgxPgXp",
        "outputId": "b6b79590-40ee-44ec-c044-bde584de0eb4"
      },
      "execution_count": null,
      "outputs": [
        {
          "output_type": "stream",
          "name": "stdout",
          "text": [
            "The indexing of the string is: h\n",
            "The indexing of the string is : o\n"
          ]
        }
      ]
    },
    {
      "cell_type": "code",
      "source": [
        "#To pull values of the array \n",
        "str3[1:3]"
      ],
      "metadata": {
        "colab": {
          "base_uri": "https://localhost:8080/",
          "height": 35
        },
        "id": "BHkx6gUAQHNV",
        "outputId": "7aca944f-224a-497a-881a-f50440c9e7d2"
      },
      "execution_count": null,
      "outputs": [
        {
          "output_type": "execute_result",
          "data": {
            "text/plain": [
              "'el'"
            ],
            "application/vnd.google.colaboratory.intrinsic+json": {
              "type": "string"
            }
          },
          "metadata": {},
          "execution_count": 13
        }
      ]
    },
    {
      "cell_type": "code",
      "source": [
        "str3[::2]"
      ],
      "metadata": {
        "colab": {
          "base_uri": "https://localhost:8080/",
          "height": 35
        },
        "id": "rxMyM8C4Q5ac",
        "outputId": "0d32fb92-6bbd-4afa-8e98-9a7425fadb34"
      },
      "execution_count": null,
      "outputs": [
        {
          "output_type": "execute_result",
          "data": {
            "text/plain": [
              "'hlo'"
            ],
            "application/vnd.google.colaboratory.intrinsic+json": {
              "type": "string"
            }
          },
          "metadata": {},
          "execution_count": 15
        }
      ]
    },
    {
      "cell_type": "code",
      "source": [
        "#Reversing of string\n",
        "print(\"Reversing of the string:\",str3[::-1])\n"
      ],
      "metadata": {
        "colab": {
          "base_uri": "https://localhost:8080/"
        },
        "id": "oGLUfNVCRHy3",
        "outputId": "50e693ea-a3ad-45bc-fb81-b7b49bd48911"
      },
      "execution_count": null,
      "outputs": [
        {
          "output_type": "stream",
          "name": "stdout",
          "text": [
            "Reversing of the string: olleh\n"
          ]
        }
      ]
    },
    {
      "cell_type": "code",
      "source": [
        "#String Concatenation\n",
        "str4=\"Veera\"\n",
        "str5=\"Mukil\"\n",
        "print(\"The concatenation of 2 strings:\",str4+str5)"
      ],
      "metadata": {
        "colab": {
          "base_uri": "https://localhost:8080/"
        },
        "id": "LDuptbk_Rla6",
        "outputId": "e2a5b3af-cc84-49a0-e8fd-98de4800ea0c"
      },
      "execution_count": null,
      "outputs": [
        {
          "output_type": "stream",
          "name": "stdout",
          "text": [
            "The concatenation of 2 strings: VeeraMukil\n"
          ]
        }
      ]
    },
    {
      "cell_type": "code",
      "source": [
        "#Concatenation 2 strings including space\n",
        "a=\"Hello\"\n",
        "b=\"World\"\n",
        "print(\"The concatenation of 2 strings with space:\", a+\" \"+ b)\n"
      ],
      "metadata": {
        "colab": {
          "base_uri": "https://localhost:8080/"
        },
        "id": "9FMeKr2BSBTR",
        "outputId": "785f9305-3bef-42a9-d80f-917b944eb9d2"
      },
      "execution_count": null,
      "outputs": [
        {
          "output_type": "stream",
          "name": "stdout",
          "text": [
            "The concatenation of 2 strings with space: Hello World\n"
          ]
        }
      ]
    },
    {
      "cell_type": "code",
      "source": [
        "#Escape characters\n",
        "#Insert quotes in the middle of a single word\n",
        "txt=\"My name is \\\"Veera\\\".I am 12 years old\"\n",
        "print(txt)"
      ],
      "metadata": {
        "colab": {
          "base_uri": "https://localhost:8080/"
        },
        "id": "gI6uXcmQdx1Z",
        "outputId": "3d47a07c-f74d-410a-da96-9193a8f9868c"
      },
      "execution_count": null,
      "outputs": [
        {
          "output_type": "stream",
          "name": "stdout",
          "text": [
            "My name is \"Veera\".I am 12 years old\n"
          ]
        }
      ]
    },
    {
      "cell_type": "code",
      "source": [
        "#Using single quote for a word\n",
        "txt1='It\\'s alright'\n",
        "print(txt1)"
      ],
      "metadata": {
        "colab": {
          "base_uri": "https://localhost:8080/"
        },
        "id": "QyxcYQiNeqaA",
        "outputId": "cc50bc17-ecf2-41b1-8441-6848b5f61638"
      },
      "execution_count": null,
      "outputs": [
        {
          "output_type": "stream",
          "name": "stdout",
          "text": [
            "It's alright\n"
          ]
        }
      ]
    },
    {
      "cell_type": "code",
      "source": [
        "#New line\n",
        "txt3=\"Veera\\nMukil\"\n",
        "print(txt3)"
      ],
      "metadata": {
        "colab": {
          "base_uri": "https://localhost:8080/"
        },
        "id": "5vEXPqxYfatV",
        "outputId": "7e8c87d1-bc45-49ca-b291-85950c0812a9"
      },
      "execution_count": null,
      "outputs": [
        {
          "output_type": "stream",
          "name": "stdout",
          "text": [
            "Veera\n",
            "Mukil\n"
          ]
        }
      ]
    },
    {
      "cell_type": "code",
      "source": [
        "#Carriage return\n",
        "txt4= \"veera\\rmukil\"\n",
        "print(txt4)"
      ],
      "metadata": {
        "colab": {
          "base_uri": "https://localhost:8080/"
        },
        "id": "UfR0_dAbfxe3",
        "outputId": "8e51118c-31c9-4495-e622-b927c15e89d6"
      },
      "execution_count": null,
      "outputs": [
        {
          "output_type": "stream",
          "name": "stdout",
          "text": [
            "veera\rmukil\n"
          ]
        }
      ]
    },
    {
      "cell_type": "code",
      "source": [
        "#Tab space\n",
        "txt5=\"veera\\tmukil\"\n",
        "print(txt5)"
      ],
      "metadata": {
        "colab": {
          "base_uri": "https://localhost:8080/"
        },
        "id": "DMtMB66YgzEp",
        "outputId": "ee69e6f0-594e-4e54-de27-d580d6fed00e"
      },
      "execution_count": null,
      "outputs": [
        {
          "output_type": "stream",
          "name": "stdout",
          "text": [
            "veera\tmukil\n"
          ]
        }
      ]
    },
    {
      "cell_type": "code",
      "source": [
        "#Backspace(This erase one character of  backspace)\n",
        "txt6=\"veera \\bmukil\"\n",
        "print(txt6)"
      ],
      "metadata": {
        "colab": {
          "base_uri": "https://localhost:8080/"
        },
        "id": "7sAoZWMlhHjh",
        "outputId": "a0f336b1-5e91-4c4f-8e77-b9cf7320fd8d"
      },
      "execution_count": null,
      "outputs": [
        {
          "output_type": "stream",
          "name": "stdout",
          "text": [
            "veera \bmukil\n"
          ]
        }
      ]
    },
    {
      "cell_type": "code",
      "source": [
        "#octal value of hello\n",
        "txt7=\"\\110\\145\\154\\154\\157\"\n",
        "print(txt7)"
      ],
      "metadata": {
        "colab": {
          "base_uri": "https://localhost:8080/"
        },
        "id": "0-q5QRU1htik",
        "outputId": "b89df00d-5845-4b78-8029-b1ddd62c4729"
      },
      "execution_count": null,
      "outputs": [
        {
          "output_type": "stream",
          "name": "stdout",
          "text": [
            "Hello\n"
          ]
        }
      ]
    },
    {
      "cell_type": "code",
      "source": [
        "#STRING METHODS\n",
        "#**************\n",
        "#using method center()(#Print the word mukil taking upto 20 space characters and prints mukil in center)\n",
        "txt8=\"mukil\"\n",
        "x=txt8.center(20)\n",
        "print(x)"
      ],
      "metadata": {
        "colab": {
          "base_uri": "https://localhost:8080/"
        },
        "id": "ztXAacHOi2aO",
        "outputId": "a4648e5a-b8d5-467d-ae2f-3bdd5123feca"
      },
      "execution_count": null,
      "outputs": [
        {
          "output_type": "stream",
          "name": "stdout",
          "text": [
            "       mukil        \n"
          ]
        }
      ]
    },
    {
      "cell_type": "code",
      "source": [
        "#center() using parameter\n",
        "#Align the word center and fill with padding character in the space.\n",
        "txt9=\"Veera\"\n",
        "y=txt9.center(20,\"*\")\n",
        "print(y)"
      ],
      "metadata": {
        "colab": {
          "base_uri": "https://localhost:8080/"
        },
        "id": "ogOPz112kK6S",
        "outputId": "54720cfc-0c8d-450b-973b-ad1641f0f093"
      },
      "execution_count": null,
      "outputs": [
        {
          "output_type": "stream",
          "name": "stdout",
          "text": [
            "*******Veera********\n"
          ]
        }
      ]
    },
    {
      "cell_type": "code",
      "source": [
        "#Upper case\n",
        "str6=\"veerasuthesh\"\n",
        "print(\"Print the values in Uppercase:\",(str6.upper()))\n"
      ],
      "metadata": {
        "colab": {
          "base_uri": "https://localhost:8080/"
        },
        "id": "_9YoeenWT93j",
        "outputId": "a85c07e4-675b-4baf-d958-6b59791518ea"
      },
      "execution_count": null,
      "outputs": [
        {
          "output_type": "stream",
          "name": "stdout",
          "text": [
            "Print the values in Uppercase: VEERASUTHESH\n"
          ]
        }
      ]
    },
    {
      "cell_type": "code",
      "source": [
        "#Starting letter in capital\n",
        "str6.capitalize()"
      ],
      "metadata": {
        "colab": {
          "base_uri": "https://localhost:8080/",
          "height": 35
        },
        "id": "VlRJa3PvVvXP",
        "outputId": "73df0973-c6fa-4cce-e5d2-9204760ebb6e"
      },
      "execution_count": null,
      "outputs": [
        {
          "output_type": "execute_result",
          "data": {
            "text/plain": [
              "'Veerasuthesh'"
            ],
            "application/vnd.google.colaboratory.intrinsic+json": {
              "type": "string"
            }
          },
          "metadata": {},
          "execution_count": 41
        }
      ]
    },
    {
      "cell_type": "code",
      "source": [
        "#Lower case\n",
        "str7=\"VEERAMUKILESH\"\n",
        "print(\"Print the values in Lowercase:\",str7.lower())"
      ],
      "metadata": {
        "colab": {
          "base_uri": "https://localhost:8080/"
        },
        "id": "gUsdfOVkUoUh",
        "outputId": "cb693c30-3b59-4736-915e-9a59300baa68"
      },
      "execution_count": null,
      "outputs": [
        {
          "output_type": "stream",
          "name": "stdout",
          "text": [
            "Print the values in Lowercase: veeramukilesh\n"
          ]
        }
      ]
    },
    {
      "cell_type": "code",
      "source": [
        "#Lowercase using CASEFOLD function\n",
        "str7.casefold()\n"
      ],
      "metadata": {
        "colab": {
          "base_uri": "https://localhost:8080/",
          "height": 35
        },
        "id": "NG69kvJBVUrz",
        "outputId": "4728f5b1-3267-4be1-de40-733157e2826b"
      },
      "execution_count": null,
      "outputs": [
        {
          "output_type": "execute_result",
          "data": {
            "text/plain": [
              "'veeramukilesh'"
            ],
            "application/vnd.google.colaboratory.intrinsic+json": {
              "type": "string"
            }
          },
          "metadata": {},
          "execution_count": 44
        }
      ]
    },
    {
      "cell_type": "code",
      "source": [
        "#count()\n",
        "#Returns the number of times a specified values appears in the string\n",
        "str8=\"veerumukil\"\n",
        "str8.count(\"e\")"
      ],
      "metadata": {
        "colab": {
          "base_uri": "https://localhost:8080/"
        },
        "id": "tYDWhGelVrzE",
        "outputId": "c37595d8-8d27-4a51-d989-9f971b00aa85"
      },
      "execution_count": null,
      "outputs": [
        {
          "output_type": "execute_result",
          "data": {
            "text/plain": [
              "2"
            ]
          },
          "metadata": {},
          "execution_count": 45
        }
      ]
    },
    {
      "cell_type": "code",
      "source": [
        "#strip()\n",
        "#Remove whitespace from the begning or end#\n",
        "str9=\"  veera suthesh!! \"\n",
        "print(str9.strip())"
      ],
      "metadata": {
        "colab": {
          "base_uri": "https://localhost:8080/"
        },
        "id": "2QOjb5GdXmPF",
        "outputId": "e7a146c2-b4f2-4127-a924-532761e68b7c"
      },
      "execution_count": null,
      "outputs": [
        {
          "output_type": "stream",
          "name": "stdout",
          "text": [
            "veera suthesh!!\n"
          ]
        }
      ]
    },
    {
      "cell_type": "code",
      "source": [
        "#Replace()\n",
        "#replace a string with another\n",
        "str10=\"veera\"\n",
        "print(\"This will replace the letter a with u in the string veera :\",str10.replace(\"a\", \"u\"))"
      ],
      "metadata": {
        "colab": {
          "base_uri": "https://localhost:8080/"
        },
        "id": "Bb6U6_u8nx0k",
        "outputId": "844ebbdd-9c03-4c3d-e0db-5bc6ec1e94f9"
      },
      "execution_count": null,
      "outputs": [
        {
          "output_type": "stream",
          "name": "stdout",
          "text": [
            "This will replace the letter a with u in the string veera : veeru\n"
          ]
        }
      ]
    },
    {
      "cell_type": "code",
      "source": [
        "#Split() method\n",
        "str11=\"veera,mukil\"\n",
        "print(\"Split each with value with quote:\",str11.split())"
      ],
      "metadata": {
        "colab": {
          "base_uri": "https://localhost:8080/"
        },
        "id": "D4yhb47nZkhv",
        "outputId": "e1bee353-3568-41bc-ce4d-4c403a42660c"
      },
      "execution_count": null,
      "outputs": [
        {
          "output_type": "stream",
          "name": "stdout",
          "text": [
            "Split each with value with quote: ['veera,mukil']\n"
          ]
        }
      ]
    },
    {
      "cell_type": "code",
      "source": [
        "#Splits the words without e\n",
        "str12=\"veerasuthesh\"\n",
        "str12.split(\"e\")\n"
      ],
      "metadata": {
        "colab": {
          "base_uri": "https://localhost:8080/"
        },
        "id": "nUWZSc_paHe6",
        "outputId": "178b5925-388f-41f7-dcb1-dc8d893f36d0"
      },
      "execution_count": null,
      "outputs": [
        {
          "output_type": "execute_result",
          "data": {
            "text/plain": [
              "['v', '', 'rasuth', 'sh']"
            ]
          },
          "metadata": {},
          "execution_count": 54
        }
      ]
    },
    {
      "cell_type": "code",
      "source": [
        "#String format\n",
        "age=12\n",
        "name=\"Veera\"\n",
        "txt=\"My name is {} and I am {} years olds.\"\n",
        "print(txt.format(name,age))"
      ],
      "metadata": {
        "colab": {
          "base_uri": "https://localhost:8080/"
        },
        "id": "IeFEDNjvayka",
        "outputId": "c793daec-e48f-4baf-a9e2-a1e3ffd9cc64"
      },
      "execution_count": null,
      "outputs": [
        {
          "output_type": "stream",
          "name": "stdout",
          "text": [
            "My name is Veera and I am 12 years olds.\n"
          ]
        }
      ]
    },
    {
      "cell_type": "code",
      "source": [
        "#Format using index numbers\n",
        "fruit=\"plums\"\n",
        "quantity=2\n",
        "price=5\n",
        "myorder=\"I bought {0}kg of {1} that costs me {2} pounds.\"\n",
        "print(myorder.format(quantity,fruit,price))"
      ],
      "metadata": {
        "colab": {
          "base_uri": "https://localhost:8080/"
        },
        "id": "B-F4OJIQb3Ey",
        "outputId": "bd75997e-09be-4d02-d5a1-b433e3268f1f"
      },
      "execution_count": null,
      "outputs": [
        {
          "output_type": "stream",
          "name": "stdout",
          "text": [
            "I bought 2kg of plums that costs me 5 pounds.\n"
          ]
        }
      ]
    },
    {
      "cell_type": "code",
      "source": [
        "#Using endswith() If the text ends with \"!\" means it will return true or false\n",
        "txt10=\"Hello Veera!\"\n",
        "ends=txt10.endswith(\"!\")\n",
        "print(ends)"
      ],
      "metadata": {
        "colab": {
          "base_uri": "https://localhost:8080/"
        },
        "id": "T3D6rA7woqA5",
        "outputId": "c54e7855-a500-4ba3-8a54-4d13e620ad1f"
      },
      "execution_count": null,
      "outputs": [
        {
          "output_type": "stream",
          "name": "stdout",
          "text": [
            "True\n"
          ]
        }
      ]
    },
    {
      "cell_type": "code",
      "source": [
        "#Using endswith() example2\n",
        "txt11=\"hello Veera\"\n",
        "ends1=txt11.endswith(\"Veera\")\n",
        "print(ends1)"
      ],
      "metadata": {
        "colab": {
          "base_uri": "https://localhost:8080/"
        },
        "id": "gWMMzKw4pbfQ",
        "outputId": "0262c813-eaa5-46f9-f280-cd5125681d37"
      },
      "execution_count": null,
      "outputs": [
        {
          "output_type": "stream",
          "name": "stdout",
          "text": [
            "True\n"
          ]
        }
      ]
    },
    {
      "cell_type": "code",
      "source": [
        "#using expandtabs()\n",
        "#Set the tab space 2 size whitespace\n",
        "txt12=\"v\\te\\te\\tr\\ta\"\n",
        "exp1=txt12.expandtabs(2)\n",
        "print(exp1)\n"
      ],
      "metadata": {
        "colab": {
          "base_uri": "https://localhost:8080/"
        },
        "id": "HtM2NSiMq1X-",
        "outputId": "ce9dbc6a-b526-4d35-eecf-dbc517085eae"
      },
      "execution_count": null,
      "outputs": [
        {
          "output_type": "stream",
          "name": "stdout",
          "text": [
            "v e e r a\n"
          ]
        }
      ]
    },
    {
      "cell_type": "code",
      "source": [
        "#expandtabs with specified number of whitespace\n",
        "txt13=\"m\\tu\\tk\\ti\\tl\"\n",
        "print(txt13)\n",
        "print(txt13.expandtabs())\n",
        "print(txt13.expandtabs(2))\n",
        "print(txt13.expandtabs(4))\n",
        "print(txt13.expandtabs(6))\n",
        "\n"
      ],
      "metadata": {
        "colab": {
          "base_uri": "https://localhost:8080/"
        },
        "id": "FzzeTDE5rnMe",
        "outputId": "e4964a64-cf86-43ec-b3bc-cc678f2ce4be"
      },
      "execution_count": null,
      "outputs": [
        {
          "output_type": "stream",
          "name": "stdout",
          "text": [
            "m\tu\tk\ti\tl\n",
            "m       u       k       i       l\n",
            "m u k i l\n",
            "m   u   k   i   l\n",
            "m     u     k     i     l\n"
          ]
        }
      ]
    },
    {
      "cell_type": "code",
      "source": [
        "#find() Searches the  string for the specified values amd returns the positon of where it was found.\n",
        "#if the value didn't then it return -1\n",
        "txt14=\"hello ,welcome to my world\"\n",
        "x=txt14.find(\"hello\")\n",
        "print(\"If the string found return the position of string:\",x)\n",
        "y=txt14.find(\"hai\")\n",
        "print(\"If the string didn't found return:\",y)"
      ],
      "metadata": {
        "colab": {
          "base_uri": "https://localhost:8080/"
        },
        "id": "TaVoJ2QoEXhg",
        "outputId": "78f01098-e8b3-46c6-f37b-1a59799ba882"
      },
      "execution_count": null,
      "outputs": [
        {
          "output_type": "stream",
          "name": "stdout",
          "text": [
            "If the string found return the position of string: 0\n",
            "If the string didn't found return: -1\n"
          ]
        }
      ]
    },
    {
      "cell_type": "code",
      "source": [
        "#isalnum()Returns True if all the characters in string are alphanumeric\n",
        "txt15=\"veera29\"\n",
        "print(\"Check the given string is alphanumeric or not:\",txt15.isalnum())"
      ],
      "metadata": {
        "id": "1CFBgs8VF7Tn",
        "colab": {
          "base_uri": "https://localhost:8080/"
        },
        "outputId": "93fbf639-cf8f-484f-c6e8-ec4c3798e4c5"
      },
      "execution_count": null,
      "outputs": [
        {
          "output_type": "stream",
          "name": "stdout",
          "text": [
            "Check the given string is alpha: True\n"
          ]
        }
      ]
    },
    {
      "cell_type": "code",
      "source": [
        "#isalnum()Returns False if some characters in string are not alphanumeric(space,special characters)\n",
        "txt16=\"mukil 30\"\n",
        "print(\"Check the given string is alphanumeric or not:\",txt16.isalnum())"
      ],
      "metadata": {
        "colab": {
          "base_uri": "https://localhost:8080/"
        },
        "id": "G4b_UUvXewMg",
        "outputId": "2a737c11-0e57-4cf7-9892-74d3237071b4"
      },
      "execution_count": null,
      "outputs": [
        {
          "output_type": "stream",
          "name": "stdout",
          "text": [
            "Check the given string is alphanumeric or not: False\n"
          ]
        }
      ]
    },
    {
      "cell_type": "code",
      "source": [
        "#isalpha()Returns true if all the characters in string are alphabets\n",
        "txt17=\"veera\"\n",
        "print(\"Check all the characters in the string is alphabets:\",txt17.isalpha())"
      ],
      "metadata": {
        "colab": {
          "base_uri": "https://localhost:8080/"
        },
        "id": "s8bbBxQFfeUc",
        "outputId": "6e9a9812-e365-41e5-919d-f8b5f23c1f7b"
      },
      "execution_count": null,
      "outputs": [
        {
          "output_type": "stream",
          "name": "stdout",
          "text": [
            "Check all the characters in the string is alphabets: True\n"
          ]
        }
      ]
    },
    {
      "cell_type": "code",
      "source": [
        "#isalpha()Returns false if some the characters in strings are not alphabets(numbers,special characters)\n",
        "txt18=\"veera123\"\n",
        "print(\"Checkthe given string is alphabet or not:\",txt18.isalpha())"
      ],
      "metadata": {
        "colab": {
          "base_uri": "https://localhost:8080/"
        },
        "id": "1Mnfp2bfgVVR",
        "outputId": "dcf9dc29-b84f-4de8-804e-6907443f3473"
      },
      "execution_count": null,
      "outputs": [
        {
          "output_type": "stream",
          "name": "stdout",
          "text": [
            "Checkthe given string is alphabet or not: False\n"
          ]
        }
      ]
    },
    {
      "cell_type": "code",
      "source": [
        "#isdecimal()Returns true if all the character in strings are decimal\n",
        "txt19=\"\\u0033\"\n",
        "print(\"Check if all the characters in strings :\",txt19.isdecimal())\n"
      ],
      "metadata": {
        "colab": {
          "base_uri": "https://localhost:8080/"
        },
        "id": "u--NGwk7Ckzu",
        "outputId": "ea53b05e-f8d5-438e-a03c-b11aef9996c5"
      },
      "execution_count": null,
      "outputs": [
        {
          "output_type": "stream",
          "name": "stdout",
          "text": [
            "Check if all the characters in strings : True\n"
          ]
        }
      ]
    },
    {
      "cell_type": "code",
      "source": [
        "#isdigit()Returns true if all the characters in strings are digits\n",
        "txt20=\"50800\"\n",
        "print(\"Check if all the characters in strings are digits:\",txt20.isdigit())"
      ],
      "metadata": {
        "colab": {
          "base_uri": "https://localhost:8080/"
        },
        "id": "ilZmUICJD_kr",
        "outputId": "ad2dcb50-2b9e-4e67-d0a0-ac81d0ed33c3"
      },
      "execution_count": null,
      "outputs": [
        {
          "output_type": "stream",
          "name": "stdout",
          "text": [
            "Check if all the characters in strings are digits: True\n"
          ]
        }
      ]
    },
    {
      "cell_type": "code",
      "source": [
        "#isdigit()Returns false if any of the characters in strings are digits\n",
        "txt21=\"\\u0300\"\n",
        "txt22=\"\\u00b2\"\n",
        "print(txt21.isdigit())\n",
        "print(txt22.isdigit())"
      ],
      "metadata": {
        "colab": {
          "base_uri": "https://localhost:8080/"
        },
        "id": "QY40ql1uFoJa",
        "outputId": "3aafda87-e312-4d14-db1c-c811f592e0f4"
      },
      "execution_count": null,
      "outputs": [
        {
          "output_type": "stream",
          "name": "stdout",
          "text": [
            "False\n",
            "True\n"
          ]
        }
      ]
    },
    {
      "cell_type": "code",
      "source": [
        "#islower()Returns true if the given strings are lower or false\n",
        "txt23=\"hello\"\n",
        "txt24=\"Hello\"\n",
        "print(\"Check if all the characters are lower:\",txt23.islower())\n",
        "print(\"Returns false if any of the characters are string is lowercase:\",txt24.islower())"
      ],
      "metadata": {
        "colab": {
          "base_uri": "https://localhost:8080/"
        },
        "id": "pvxmzaLpHKMk",
        "outputId": "29f4a8dc-b3db-4d3b-e72c-4300ca2cb343"
      },
      "execution_count": null,
      "outputs": [
        {
          "output_type": "stream",
          "name": "stdout",
          "text": [
            "Check if all the characters are lower: True\n",
            "Returns false if any of the characters are string is lowercase: False\n"
          ]
        }
      ]
    },
    {
      "cell_type": "code",
      "source": [
        "#@title Boolean\n",
        "\n",
        "a=10\n",
        "b=14\n",
        "if a>b:\n",
        "  print(\"a is greater than b\")\n",
        "else:\n",
        "    print(\"a is not greater than b\")"
      ],
      "metadata": {
        "colab": {
          "base_uri": "https://localhost:8080/"
        },
        "id": "b-TuLaFsH7cN",
        "outputId": "e71d97a9-77a6-4d3b-85ce-27dc8a03fa37"
      },
      "execution_count": null,
      "outputs": [
        {
          "output_type": "stream",
          "name": "stdout",
          "text": [
            "a is not greater than b\n"
          ]
        }
      ]
    },
    {
      "cell_type": "code",
      "source": [
        "#Boolean functions\n",
        "def myfunction():\n",
        " return True\n",
        "if myfunction():\n",
        "  print(\"Yes\")\n",
        "else:\n",
        "  print(\"No\")"
      ],
      "metadata": {
        "colab": {
          "base_uri": "https://localhost:8080/"
        },
        "id": "V2GynLD4Psdi",
        "outputId": "b770f897-7caa-47ff-8b29-e35f3c61c115"
      },
      "execution_count": null,
      "outputs": [
        {
          "output_type": "stream",
          "name": "stdout",
          "text": [
            "Yes\n"
          ]
        }
      ]
    },
    {
      "cell_type": "code",
      "source": [
        "#isinstance() is used to determine is any of the object of a certain datatype\n",
        "t= 200\n",
        "print(isinstance(t,int))\n"
      ],
      "metadata": {
        "colab": {
          "base_uri": "https://localhost:8080/"
        },
        "id": "tiwHGdGCQZNx",
        "outputId": "25faae7a-fca2-43a0-ba8c-31091314297a"
      },
      "execution_count": null,
      "outputs": [
        {
          "output_type": "stream",
          "name": "stdout",
          "text": [
            "True\n"
          ]
        }
      ]
    },
    {
      "cell_type": "code",
      "source": [
        "\n",
        "#@title Operators -Arthimetic \n",
        "#Arthimetic operators(Addition,subtraction,multiplication,division,modulus,exponentation,floor divisio)\n",
        "a=15\n",
        "b=4\n",
        "sum= a+b\n",
        "print(\"Sum of 2 numbers is:\",sum)\n",
        "sub= a-b\n",
        "print(\"Subraction of 2 numbers is :\",sub)\n",
        "mul=a*b\n",
        "print(\"Product of 2 numbers is:\",mul)\n",
        "div=a/b\n",
        "print(\"Division of 2 numbers is :\",div)\n",
        "mod=a%b\n",
        "print(\"Modulus of 2 numbers is :\",mod)\n",
        "exp=a**b\n",
        "print(\"Exponentaition of 2 numbers is:\",exp)#means (15*15*15*15)\n",
        "floor=a//b\n",
        "print(\"Floor division of 2 numbers is:\",floor)#rounds to nearest value\n",
        "\n"
      ],
      "metadata": {
        "colab": {
          "base_uri": "https://localhost:8080/"
        },
        "id": "ZS307k2wRhpK",
        "outputId": "151bf958-6418-4353-e67c-86801069d1a1"
      },
      "execution_count": null,
      "outputs": [
        {
          "output_type": "stream",
          "name": "stdout",
          "text": [
            "Sum of 2 numbers is: 19\n",
            "Subraction of 2 numbers is : 11\n",
            "Product of 2 numbers is: 60\n",
            "Division of 2 numbers is : 3.75\n",
            "Modulus of 2 numbers is : 3\n",
            "Exponentaition of 2 numbers is: 50625\n",
            "Floor division of 2 numbers is: 3\n"
          ]
        }
      ]
    },
    {
      "cell_type": "code",
      "source": [
        "#@title Operators-Assignment\n",
        "#Assignment Operators(Used to assign the values to varaibles)\n",
        "c=5\n",
        "print(\"Assign the value to c:\",c)\n",
        "c+=3\n",
        "print(\"Assign the value to c and add 3:\",c)#c=c+3\n",
        "c-=3\n",
        "print(\"Assign the value to c and minus 3:\",c)#c=c-3\n",
        "c*=3\n",
        "print(\"Assign the value to c and multiply by 3:\",c)#c=c*3\n",
        "c/=3\n",
        "print(\"Assign the value to c and divide by 3:\",c)#c=c/3\n",
        "c%=3\n",
        "print(\"Assign the value to c and modulus by 3:\",c)\n",
        "c//=3\n",
        "print(\"Assign the value to c and floor by 3:\",c)\n",
        "c**=3\n",
        "print(\"Assign the value to c and exponent by 3:\",c)\n",
        "#c&=3\n",
        "#print(\"Assign the value to c and  find the insection c and 3:\",c)\n",
        "#c|=3\n",
        "#print(\"Assign the value to c and find OR value:\",c)\n",
        "#c^=3\n",
        "#print(\"Assign the value to c and \")\n",
        "#c>> =3\n",
        "print(\"Assign the values to c and check c is >> to 3:\",c)\n",
        "#c<< = 3\n",
        "print(\"Assign the values to c and check c is << to 3:\",c)\n",
        "\n",
        "\n"
      ],
      "metadata": {
        "colab": {
          "base_uri": "https://localhost:8080/"
        },
        "id": "OJ_U_xsnXtdI",
        "outputId": "e659046b-0e43-4d49-d902-2efb674293d0"
      },
      "execution_count": null,
      "outputs": [
        {
          "output_type": "stream",
          "name": "stdout",
          "text": [
            "Assign the value to c: 5\n",
            "Assign the value to c and add 3: 8\n",
            "Assign the value to c and minus 3: 5\n",
            "Assign the value to c and multiply by 3: 15\n",
            "Assign the value to c and divide by 3: 5.0\n",
            "Assign the value to c and modulus by 3: 2.0\n",
            "Assign the value to c and floor by 3: 0.0\n",
            "Assign the value to c and exponent by 3: 0.0\n",
            "Assign the values to c and check c is >> to 3: 0.0\n",
            "Assign the values to c and check c is << to 3: 0.0\n"
          ]
        }
      ]
    },
    {
      "cell_type": "code",
      "source": [
        "#@title Operators-Comparision\n",
        "#Comparision operators\n",
        "\n",
        "d=5\n",
        "e=6\n",
        "print(\"Check the d is equal to e:\",d==e)#Equals\n",
        "\n",
        "print(\"Check the dis not equal e:\",d!=e)#Not equals\n",
        "print(\"Check d is greaterthan e :\",d>e)#Greater\n",
        "print(\"Check d is greaterthan or equals to e:\",d>=e)#Greaterthan or equals\n",
        "print(\"Check d is less than e :\",d<e)#Less than\n",
        "print(\"Check d is less than or equals to e:\",d<=e)#lessthan or equals\n",
        "\n"
      ],
      "metadata": {
        "colab": {
          "base_uri": "https://localhost:8080/"
        },
        "id": "gwe1ChOnflth",
        "outputId": "ad4f3ee1-fc89-4184-cde2-8ad0fdc81c5a"
      },
      "execution_count": null,
      "outputs": [
        {
          "output_type": "stream",
          "name": "stdout",
          "text": [
            "Check the d is equal to e: False\n",
            "Check the dis not equal e: True\n",
            "Check d is greaterthan e : False\n",
            "Check d is greaterthan or equals to e: False\n",
            "Check d is less than e : True\n",
            "Check d is less than or equals to e: True\n"
          ]
        }
      ]
    },
    {
      "cell_type": "code",
      "source": [
        "#@title Operators-Logical\n",
        "#Logical operators\n",
        "f=5\n",
        "print(f>3 and f<10)#returns true bcos f is greaterthan 3 and f is lessthan 5\n",
        "print(f>3 or f<4)#returns true bcos  f is greaterthan 3 or f is lessthan 4\n",
        "print(not(f>3 and f<10))#returns false "
      ],
      "metadata": {
        "colab": {
          "base_uri": "https://localhost:8080/"
        },
        "id": "irtU-sJGhyhv",
        "outputId": "6e742252-5fb8-4130-ce66-49840a77b6f0"
      },
      "execution_count": null,
      "outputs": [
        {
          "output_type": "stream",
          "name": "stdout",
          "text": [
            "True\n",
            "True\n",
            "False\n"
          ]
        }
      ]
    },
    {
      "cell_type": "code",
      "source": [
        "#@title List\n",
        "#List\n",
        "mylist=[\"red\",\"blue\",\"green\"]\n",
        "print(mylist)\n",
        "mylist1=[\"red\",\"blue\",\"green\",\"red\"]#List allow duplicates\n",
        "print(mylist1)\n",
        "print(\"Length of mylist is:\",len(mylist))#returns the length of the list\n",
        "print(\"Length of mylist1 is:\",len(mylist1))\n",
        "mylist3=[1,2,3]\n",
        "print(type(mylist3))#list data type\n",
        "mylist4=list((\"red\",\"blue\",\"green\"))#list as constructor()\n",
        "print(mylist4)\n"
      ],
      "metadata": {
        "colab": {
          "base_uri": "https://localhost:8080/"
        },
        "id": "7WcFjakrq3w9",
        "outputId": "c2e1b754-d6e0-4906-ed51-f02095f7be0e"
      },
      "execution_count": null,
      "outputs": [
        {
          "output_type": "stream",
          "name": "stdout",
          "text": [
            "['red', 'blue', 'green']\n",
            "['red', 'blue', 'green', 'red']\n",
            "Length of mylist is: 3\n",
            "Length of mylist1 is: 4\n",
            "<class 'list'>\n",
            "['red', 'blue', 'green']\n"
          ]
        }
      ]
    },
    {
      "cell_type": "code",
      "source": [
        "#@title List-Indexing\n",
        "#List indexing/Access list/negative indexing\n",
        "mylist5=[\"r\",\"b\",\"g\",\"o\",\"y\"]\n",
        "print(\"Indexing 0 of mylist5 is:\",mylist5[1])\n",
        "print(\"negative indexing -1 of mylsit5 is :\",mylist5[-1])\n",
        "print(\"Range of indexing:\",mylist5[1:3])#search will starts at index 1 & ends at index 3.But won't include index[3]\n",
        "print(mylist5[:2])#starts from the begning but ends at index[2].But won't include index[2]\n",
        "print(mylist5[1:])#starts from index[1] and returns till the end of index\n",
        "print(mylist5[-3:-1])#it excludes index[-1] & returns till index[-3]\n",
        "if 'b' in mylist5:#check is the string in list\n",
        " print(\"yes,'b' is in the list\")"
      ],
      "metadata": {
        "colab": {
          "base_uri": "https://localhost:8080/"
        },
        "id": "TYD-6o91t4yg",
        "outputId": "0be46e16-d9cf-4b68-f561-0b1a6eb3bdc8"
      },
      "execution_count": null,
      "outputs": [
        {
          "output_type": "stream",
          "name": "stdout",
          "text": [
            "Indexing 0 of mylist5 is: b\n",
            "negative indexing -1 of mylsit5 is : y\n",
            "Range of indexing: ['b', 'g']\n",
            "['r', 'b']\n",
            "['b', 'g', 'o', 'y']\n",
            "['g', 'o']\n",
            "yes,'b' is in the list\n"
          ]
        }
      ]
    },
    {
      "cell_type": "code",
      "source": [
        "#@title List-Changing the list values\n",
        "#Change the list item\n",
        "mylist6=[\"veera\",\"mukil\",\"veeru\"]\n",
        "mylist6[2]=\"suthesh\"\n",
        "print(\"Changing the value of index[2]:\",mylist6)\n",
        "mylist7=[\"veera\",\"veera1\",\"veeru\",\"mukil\",\"abi\",\"vimal\"]\n",
        "mylist7[1:3]=[\"suthesh\",\"gayu\"]\n",
        "print(\"Change the names in assigned index:\",mylist7)#it will change the values from index[1]&[2]\n",
        "mylist8=[\"abi\",\"gayu\",\"veera\",\"mukil\"]#using insert() method\n",
        "mylist8.insert(2,\"vimal\")\n",
        "print(mylist8)"
      ],
      "metadata": {
        "colab": {
          "base_uri": "https://localhost:8080/"
        },
        "id": "awOyb9G_ymP0",
        "outputId": "481a2c11-365d-47f4-b6f0-248415a923cd"
      },
      "execution_count": null,
      "outputs": [
        {
          "output_type": "stream",
          "name": "stdout",
          "text": [
            "Changing the value of index[2]: ['veera', 'mukil', 'suthesh']\n",
            "Change the names in assigned index: ['veera', 'suthesh', 'gayu', 'mukil', 'abi', 'vimal']\n",
            "['abi', 'gayu', 'vimal', 'veera', 'mukil']\n"
          ]
        }
      ]
    },
    {
      "cell_type": "code",
      "source": [
        "#@title List-Add elements to the list\n",
        "#Add items to the list(Append(),insert(),extend())\n",
        "mylist9=[\"abi\",\"gayu\",\"vimal\"]\n",
        "mylist9.append(\"veera\")#Using append(add values at the end)\n",
        "print(mylist9)\n",
        "mylist9.insert(3,\"mukil\")#insert a values at index[2]\n",
        "print(mylist9)\n",
        "mylist10=[\"vinu\",\"vinaya\"]\n",
        "mylist9.extend(mylist10)#appends values from another list using extend()\n",
        "print(mylist9)"
      ],
      "metadata": {
        "colab": {
          "base_uri": "https://localhost:8080/"
        },
        "id": "LvDLHcru2pim",
        "outputId": "48608347-1d58-449e-eda5-e4300247fedb"
      },
      "execution_count": null,
      "outputs": [
        {
          "output_type": "stream",
          "name": "stdout",
          "text": [
            "['abi', 'gayu', 'vimal', 'veera']\n",
            "['abi', 'gayu', 'vimal', 'mukil', 'veera']\n",
            "['abi', 'gayu', 'vimal', 'mukil', 'veera', 'vinu', 'vinaya']\n"
          ]
        }
      ]
    },
    {
      "cell_type": "code",
      "source": [
        "#@title List-Removes elements in the list\n",
        "#Removing items from the list\n",
        "mylist11=[\"veeru\",\"veera\",\"mukil\"]\n",
        "mylist11.remove(\"veera\")#removes the element using remove()method\n",
        "print(mylist11)\n",
        "mylist11.pop(1)#removes the element using index number using pop()method\n",
        "print(mylist11)\n",
        "mylist12=[\"veera\",\"mukil\",\"veeru\"]\n",
        "mylist12.pop()#without specifying the index\n",
        "print(mylist12)\n",
        "mylist13=[\"veeru\",\"veera\",\"mukil\"]#using del() using specified index\n",
        "del(mylist13[1])\n",
        "print(mylist13)\n",
        "mylist14=[\"veera\",\"mukil\"]#using clear()method it clears all the elements in the list\n",
        "mylist14.clear()\n",
        "print(mylist14)"
      ],
      "metadata": {
        "colab": {
          "base_uri": "https://localhost:8080/"
        },
        "id": "IyQtGGJt5AyO",
        "outputId": "fd01f171-ac52-4793-e912-d71b674d5ec1"
      },
      "execution_count": null,
      "outputs": [
        {
          "output_type": "stream",
          "name": "stdout",
          "text": [
            "['veeru', 'mukil']\n",
            "['veeru']\n",
            "['veera', 'mukil']\n",
            "['veeru', 'mukil']\n",
            "[]\n"
          ]
        }
      ]
    },
    {
      "cell_type": "code",
      "source": [
        "#@title List-Loops\n",
        "#Loop list\n",
        "#For loop\n",
        "mylist15=[\"veera\",\"mukil\",\"gayu\"]# For loop\n",
        "for x in mylist15:\n",
        "  print(x)\n",
        "for i in range(len(mylist15)):#For loop using range \n",
        " print(mylist15[i])\n",
        " print(i)\n"
      ],
      "metadata": {
        "colab": {
          "base_uri": "https://localhost:8080/"
        },
        "id": "1gO4EYBc9SY_",
        "outputId": "2ae654d3-9f2c-4aad-f5c5-e97a5a452b80"
      },
      "execution_count": null,
      "outputs": [
        {
          "output_type": "stream",
          "name": "stdout",
          "text": [
            "veera\n",
            "mukil\n",
            "gayu\n",
            "veera\n",
            "0\n",
            "mukil\n",
            "1\n",
            "gayu\n",
            "2\n"
          ]
        }
      ]
    },
    {
      "cell_type": "code",
      "source": [
        "#While loop\n",
        "mylist16=[\"red\",\"blue\",\"green\"]\n",
        "i=0\n",
        "while i<len(mylist16):\n",
        "  print(mylist16[i])\n",
        "  i=i+1"
      ],
      "metadata": {
        "colab": {
          "base_uri": "https://localhost:8080/"
        },
        "id": "mpGKILV5-yFd",
        "outputId": "baa7fe1a-c359-4be2-9ffe-84bb11335b36"
      },
      "execution_count": null,
      "outputs": [
        {
          "output_type": "stream",
          "name": "stdout",
          "text": [
            "red\n",
            "blue\n",
            "green\n"
          ]
        }
      ]
    },
    {
      "cell_type": "code",
      "source": [
        "#@title List-Comperhension\n",
        "#List Comprehension\n",
        "mylist17=[\"red\",\"green\",\"blue\"]# without using comprehension\n",
        "\n",
        "for x in mylist17:\n",
        "  if \"r\" in x:\n",
        "    print(x)\n",
        "\n",
        "mylist18=[\"red\",\"green\",\"blue\"]\n",
        "newlist=[x for x in mylist18 if \"r\" in x]\n",
        "print(\"This is example of List comperhension:\",newlist)\n"
      ],
      "metadata": {
        "colab": {
          "base_uri": "https://localhost:8080/"
        },
        "id": "_smF0lotBu1P",
        "outputId": "577a3d13-5f5b-4072-e15a-d32e463a8a69"
      },
      "execution_count": null,
      "outputs": [
        {
          "output_type": "stream",
          "name": "stdout",
          "text": [
            "red\n",
            "green\n",
            "This is example of List comperhension: ['red', 'green']\n"
          ]
        }
      ]
    },
    {
      "cell_type": "code",
      "source": [
        "#@title List- Sorting\n",
        "#List -Sort\n",
        "mylist19=[\"red\",\"blue\",\"green\"]\n",
        "mylist19.sort()\n",
        "print(mylist19)\n",
        "mylist20=[14,12,13]#Numeric sorting\n",
        "mylist20.sort()\n",
        "print(mylist20)\n",
        "mylist21=[\"a\",\"b\",\"c\"]\n",
        "mylist21.sort(reverse=True)# Descending order\n",
        "print(mylist21)\n",
        "mylist22=[\"red\",\"Blue\",\"green\"]\n",
        "mylist22.sort(key=str.lower)# for case sensetive sorting\n",
        "print(mylist22)\n",
        "mylist23=[\"red\",\"blue\",\"green\"]\n",
        "mylist23.reverse()#Using reverse() method\n",
        "print(mylist23)"
      ],
      "metadata": {
        "colab": {
          "base_uri": "https://localhost:8080/"
        },
        "id": "hFFgbnulEvT3",
        "outputId": "da2bee48-2436-48f8-ef4a-2c64925a04a9"
      },
      "execution_count": null,
      "outputs": [
        {
          "output_type": "stream",
          "name": "stdout",
          "text": [
            "['blue', 'green', 'red']\n",
            "[12, 13, 14]\n",
            "['c', 'b', 'a']\n",
            "['Blue', 'green', 'red']\n",
            "['green', 'blue', 'red']\n"
          ]
        }
      ]
    },
    {
      "cell_type": "code",
      "source": [
        "#@title List-Copy\n",
        "#Copy List\n",
        "mylist24=[\"red\",\"blue\",\"green\"]#Copying a elements from list to another using copy()method\n",
        "mycopy=mylist24.copy()\n",
        "print(mycopy)\n",
        "mylist25=[\"black\",\"purple\"]#Copy using list()method\n",
        "mylist=list(mylist25)\n",
        "print(mylist)"
      ],
      "metadata": {
        "colab": {
          "base_uri": "https://localhost:8080/"
        },
        "id": "RPmyaFHLH1E7",
        "outputId": "95ddb1be-6442-484d-dee2-1315e4c4f2aa"
      },
      "execution_count": null,
      "outputs": [
        {
          "output_type": "stream",
          "name": "stdout",
          "text": [
            "['red', 'blue', 'green']\n",
            "['black', 'purple']\n"
          ]
        }
      ]
    },
    {
      "cell_type": "code",
      "source": [
        "#@title List-Join\n",
        "#Join List(joins two lists)\n",
        "mylist26=[\"red\",\"purple\"] #Join using \"+\" operator\n",
        "mylist27=[1,2]\n",
        "listjoin=mylist26+mylist27\n",
        "print(listjoin)\n",
        "mylist28=[\"green\",\"orange\"]# Join using extend() method\n",
        "mylist29=[3,4]\n",
        "mylist28.extend(mylist29)\n",
        "print(mylist28)\n",
        "mylist30=[\"rose\",\"lotus\"] #Join using append() method\n",
        "mylist31=[67,45]\n",
        "for i in mylist31:\n",
        "  mylist30.append(i)\n",
        "  print(mylist30)\n"
      ],
      "metadata": {
        "colab": {
          "base_uri": "https://localhost:8080/"
        },
        "id": "rN4l9NdLI49G",
        "outputId": "3e4c39f5-91a3-4235-df7f-7f6ba46b49d8"
      },
      "execution_count": null,
      "outputs": [
        {
          "output_type": "stream",
          "name": "stdout",
          "text": [
            "['red', 'purple', 1, 2]\n",
            "['green', 'orange', 3, 4]\n",
            "['rose', 'lotus', 67]\n",
            "['rose', 'lotus', 67, 45]\n"
          ]
        }
      ]
    },
    {
      "cell_type": "code",
      "source": [],
      "metadata": {
        "id": "rnws-fGpK6mE"
      },
      "execution_count": null,
      "outputs": []
    }
  ]
}